{
 "cells": [
  {
   "cell_type": "markdown",
   "id": "17522fe3",
   "metadata": {},
   "source": [
    "# Chapter 4 Practice Questions\n",
    "\n",
    "Problems 6, 1, 1, 4, 12, 14"
   ]
  },
  {
   "cell_type": "markdown",
   "id": "7365527f",
   "metadata": {},
   "source": [
    "## Question 6 Algorithm Workbench\n",
    "\n",
    "In this question it asks you to rewrite the following statements using augmented assignment operators."
   ]
  },
  {
   "cell_type": "markdown",
   "id": "ed3afb07",
   "metadata": {},
   "source": [
    "Below is the statements that we need to rewrite.\n",
    "\n",
    "X = X + 1\n",
    "X = X * 2\n",
    "X = X / 10\n",
    "X = X - 100\n",
    "\n",
    "These are the augmented assignment operators we need to use +=, *=, /=, -=.\n",
    "You then plug in the correct operator based on which one the statement is using.\n",
    "\n",
    "X += 1\n",
    "X *= 2\n",
    "X /= 1-\n",
    "X -= 100\n",
    "\n",
    "The reason we use these operators is to condense the statement so the programmer doesn't have to type the variable name twice."
   ]
  },
  {
   "cell_type": "markdown",
   "id": "1e6ed118",
   "metadata": {},
   "source": [
    "## Question 3 Algorithm Workbench\n",
    "\n",
    "For this question it asks you to write a loop that displays the following set of numbers.                        \n",
    "0, 10, 20, 30, 40, 50 . . . 1000"
   ]
  },
  {
   "cell_type": "code",
   "execution_count": 27,
   "id": "a5707c0c",
   "metadata": {},
   "outputs": [
    {
     "name": "stdout",
     "output_type": "stream",
     "text": [
      "0\n",
      "10\n",
      "20\n",
      "30\n",
      "40\n",
      "50\n",
      "60\n",
      "70\n",
      "80\n",
      "90\n",
      "100\n",
      "110\n",
      "120\n",
      "130\n",
      "140\n",
      "150\n",
      "160\n",
      "170\n",
      "180\n",
      "190\n",
      "200\n",
      "210\n",
      "220\n",
      "230\n",
      "240\n",
      "250\n",
      "260\n",
      "270\n",
      "280\n",
      "290\n",
      "300\n",
      "310\n",
      "320\n",
      "330\n",
      "340\n",
      "350\n",
      "360\n",
      "370\n",
      "380\n",
      "390\n",
      "400\n",
      "410\n",
      "420\n",
      "430\n",
      "440\n",
      "450\n",
      "460\n",
      "470\n",
      "480\n",
      "490\n",
      "500\n",
      "510\n",
      "520\n",
      "530\n",
      "540\n",
      "550\n",
      "560\n",
      "570\n",
      "580\n",
      "590\n",
      "600\n",
      "610\n",
      "620\n",
      "630\n",
      "640\n",
      "650\n",
      "660\n",
      "670\n",
      "680\n",
      "690\n",
      "700\n",
      "710\n",
      "720\n",
      "730\n",
      "740\n",
      "750\n",
      "760\n",
      "770\n",
      "780\n",
      "790\n",
      "800\n",
      "810\n",
      "820\n",
      "830\n",
      "840\n",
      "850\n",
      "860\n",
      "870\n",
      "880\n",
      "890\n",
      "900\n",
      "910\n",
      "920\n",
      "930\n",
      "940\n",
      "950\n",
      "960\n",
      "970\n",
      "980\n",
      "990\n",
      "1000\n"
     ]
    }
   ],
   "source": [
    "# First we assign the variable to 0 and print it to show 0.\n",
    "X = 0\n",
    "print(X)\n",
    "# Then we write the loop to add 10 to X if X is less than 1000.\n",
    "while X < 1000:\n",
    "    X += 10\n",
    "    print(X)\n",
    "# As we can see it displays the variable +10 until it reaches 1000.    "
   ]
  },
  {
   "cell_type": "markdown",
   "id": "738f0a8d",
   "metadata": {},
   "source": [
    "## Question 1 Bug Collector\n",
    "\n",
    "Write a program that keeps a running total of the number of bugs collected during the five days."
   ]
  },
  {
   "cell_type": "code",
   "execution_count": 1,
   "id": "6e209c86",
   "metadata": {},
   "outputs": [
    {
     "name": "stdout",
     "output_type": "stream",
     "text": [
      "How many bugs collected today?: 5\n",
      "How many bugs collected today?: 5\n",
      "How many bugs collected today?: 5\n",
      "How many bugs collected today?: 5\n",
      "How many bugs collected today?: 5\n",
      "25\n"
     ]
    }
   ],
   "source": [
    "# first we get the variable for total days.\n",
    "# Next we make a variable for total bugs.\n",
    "days = 5\n",
    "total_bugs = 0\n",
    "# we set it to loop for the number of days.\n",
    "for counter in range(days):\n",
    "    daily_bugs = int(input('How many bugs collected today?: '))\n",
    "    total_bugs += daily_bugs\n",
    "# asking to input the amount of bugs each day and add it to the total.\n",
    "print(total_bugs)\n",
    "# finally the total is displayed below."
   ]
  },
  {
   "cell_type": "markdown",
   "id": "a6ca23ab",
   "metadata": {},
   "source": [
    "## Question 4 Distance Traveled\n",
    "\n",
    "Write a program that asked the user for the speed of the vehicle(mph) and the number of hours traveled. Use a loop to display the distance traveled for each hour of that time period."
   ]
  },
  {
   "cell_type": "code",
   "execution_count": 3,
   "id": "b9f53915",
   "metadata": {},
   "outputs": [
    {
     "name": "stdout",
     "output_type": "stream",
     "text": [
      "What is the speed of the vehicle in mph?: 40\n",
      "How many hours has it traveled?: 4\n",
      "Hours\tDistance Traveled\n",
      "-------------------------\n",
      "1 \t 40\n",
      "2 \t 80\n",
      "3 \t 120\n",
      "4 \t 160\n"
     ]
    }
   ],
   "source": [
    "# Added user inputs for speed and time.\n",
    "speed = int(input('What is the speed of the vehicle in mph?: '))\n",
    "time = int(input('How many hours has it traveled?: '))\n",
    "# Set up a table to display hours and distance traveled.\n",
    "print('Hours\\tDistance Traveled')\n",
    "print('-------------------------')\n",
    "# Put in the for loop for hours to track every hours of distance traveled.\n",
    "for hours in range(1, time + 1):\n",
    "    distance = hours*speed\n",
    "    print(hours, '\\t', distance)\n",
    "# Used print function to display hours and distance traveled based on user input."
   ]
  },
  {
   "cell_type": "markdown",
   "id": "512adcd8",
   "metadata": {},
   "source": [
    "## Question 12 Calculating the Factorial of a number\n",
    "\n",
    "Write a program that lets the user enter a nonnegative integer then uses a loop to calculate the factorial of that number and display."
   ]
  },
  {
   "cell_type": "code",
   "execution_count": 28,
   "id": "0b48ffc5",
   "metadata": {},
   "outputs": [
    {
     "name": "stdout",
     "output_type": "stream",
     "text": [
      "Enter a number you wish to calculate the factorial for that is greater than zero: 5\n",
      "n = 1! \t The factorial = 1\n",
      "n = 2! \t The factorial = 2\n",
      "n = 3! \t The factorial = 6\n",
      "n = 4! \t The factorial = 24\n",
      "n = 5! \t The factorial = 120\n",
      "Your factorial is 5! = 120\n"
     ]
    }
   ],
   "source": [
    "# I use the input function to get the user to input a non-negative number.\n",
    "number = int(input('Enter a number you wish to calculate the factorial for that is greater than zero: '))\n",
    "\n",
    "# Used a while loop to detect invalid numbers.\n",
    "while number < 1:\n",
    "    if number < 0:\n",
    "# If a negative number is inputted this print function will display.\n",
    "        print('Error: non-negative entered')\n",
    "    else:\n",
    "# You use if-else because the only other number is a zero and you change the print function accordingly.\n",
    "        print('Error: entered zero')\n",
    "    number = int(input('Enter a number you wish to calculate the factorial for that is greater than zero: '))\n",
    "# User will be able to input a number until they input the correct number because of the while loop.\n",
    "\n",
    "# enter base value for variable.\n",
    "factorial = 1\n",
    "\n",
    "# used for loop to calculate and show each factorial until what the user inputted.\n",
    "for n in range(1, number + 1):\n",
    "    factorial *= n\n",
    "# print function that displays each number and the corresponding factorial.\n",
    "    print(f\"n = {n}! \\t The factorial = {factorial}\")\n",
    "print(f'Your factorial is {number}! =', factorial)\n",
    "# displays your number and your factorial at the bottom."
   ]
  },
  {
   "cell_type": "markdown",
   "id": "2aab475f",
   "metadata": {},
   "source": [
    "## Question 14 Programing Exercises\n",
    "\n",
    "Write a program that uses nested loops to draw this pattern."
   ]
  },
  {
   "cell_type": "code",
   "execution_count": 44,
   "id": "e9f21d6e",
   "metadata": {},
   "outputs": [
    {
     "name": "stdout",
     "output_type": "stream",
     "text": [
      "*******\n",
      "******\n",
      "*****\n",
      "****\n",
      "***\n",
      "**\n",
      "*\n"
     ]
    }
   ],
   "source": [
    "# added variable for number of stars.\n",
    "stars = 7\n",
    "# wrote a for loop for the rows and collumns and added a start point for the number.\n",
    "for r in range(stars):\n",
    "    for c in range(r,stars):\n",
    "# added a print function to print the correct number of * in each row.\n",
    "        print('*', end='')\n",
    "# this print function goes to the next line for each collumn.    \n",
    "    print()\n"
   ]
  },
  {
   "cell_type": "code",
   "execution_count": null,
   "id": "3c440560",
   "metadata": {},
   "outputs": [],
   "source": []
  }
 ],
 "metadata": {
  "kernelspec": {
   "display_name": "Python 3 (ipykernel)",
   "language": "python",
   "name": "python3"
  },
  "language_info": {
   "codemirror_mode": {
    "name": "ipython",
    "version": 3
   },
   "file_extension": ".py",
   "mimetype": "text/x-python",
   "name": "python",
   "nbconvert_exporter": "python",
   "pygments_lexer": "ipython3",
   "version": "3.11.4"
  }
 },
 "nbformat": 4,
 "nbformat_minor": 5
}
