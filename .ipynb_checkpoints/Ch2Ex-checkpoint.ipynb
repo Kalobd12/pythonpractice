{
 "cells": [
  {
   "cell_type": "markdown",
   "id": "788fe923",
   "metadata": {},
   "source": [
    "# Chapter 2 Ex.\n",
    "\n",
    "problems 5, 5, 13"
   ]
  },
  {
   "cell_type": "markdown",
   "id": "91609db4",
   "metadata": {},
   "source": [
    "## Ex 5 Algorithm Workbench\n",
    "\n",
    "The textbook asks us to write a python statement that assigns the sum of 10 and 14 to the variable total.\n",
    "                \n",
    "              "
   ]
  },
  {
   "cell_type": "code",
   "execution_count": 13,
   "id": "9d3e55eb",
   "metadata": {},
   "outputs": [
    {
     "name": "stdout",
     "output_type": "stream",
     "text": [
      "how many apples do you have? 10\n",
      "how many oranges do you have? 14\n"
     ]
    }
   ],
   "source": [
    "# (I know this isn't exactly what the textbook asks, just wanted to practice a little more with what we learned.)\n",
    "# I use what I learned from the chapter to use input function to add variables to both 10 and 14. \n",
    "apples = int(input('how many apples do you have? '))\n",
    "oranges = int (input('how many oranges do you have? '))\n",
    "# I input values 10 and 14."
   ]
  },
  {
   "cell_type": "code",
   "execution_count": 4,
   "id": "f1fd3035",
   "metadata": {},
   "outputs": [],
   "source": [
    "# I assign total_fruit to equal the sum of the two values.\n",
    "total_fruit = apples + oranges"
   ]
  },
  {
   "cell_type": "code",
   "execution_count": 12,
   "id": "06c8ffda",
   "metadata": {},
   "outputs": [
    {
     "data": {
      "text/plain": [
       "24"
      ]
     },
     "execution_count": 12,
     "metadata": {},
     "output_type": "execute_result"
    }
   ],
   "source": [
    "# Testing if the variable is the sum of both variables.\n",
    "total_fruit"
   ]
  },
  {
   "cell_type": "code",
   "execution_count": 9,
   "id": "0b8615c7",
   "metadata": {},
   "outputs": [
    {
     "name": "stdout",
     "output_type": "stream",
     "text": [
      "The total is: 24\n"
     ]
    }
   ],
   "source": [
    "# Using the print function to display the total.\n",
    "print('The total is:', total_fruit)"
   ]
  },
  {
   "cell_type": "markdown",
   "id": "e65fca80",
   "metadata": {},
   "source": [
    "## Ex 5 Programming Exercises\n",
    "\n",
    "The Textbook asks us to calculate the distance using the following formula. Distance = Speed * Time"
   ]
  },
  {
   "cell_type": "code",
   "execution_count": 15,
   "id": "66c3d68d",
   "metadata": {},
   "outputs": [],
   "source": [
    "# I input the variables to calculate distance.\n",
    "speed = 70\n",
    "time_1 = 6\n",
    "time_2 = 10\n",
    "time_3 = 15"
   ]
  },
  {
   "cell_type": "code",
   "execution_count": 19,
   "id": "8d2c6f02",
   "metadata": {},
   "outputs": [
    {
     "name": "stdout",
     "output_type": "stream",
     "text": [
      "The distance the car traveled in 6 hours: 420\n",
      "The distance the car traveled in 10 hours: 700\n",
      "The distance the car traveled in 15 hours:, 1,050\n"
     ]
    }
   ],
   "source": [
    "print('The distance the car traveled in 6 hours:', speed * time_1)\n",
    "print('The distance the car traveled in 10 hours:', speed * time_2)\n",
    "print(f'The distance the car traveled in 15 hours:, {speed * time_3:,}')"
   ]
  },
  {
   "cell_type": "code",
   "execution_count": null,
   "id": "39dfd44c",
   "metadata": {},
   "outputs": [],
   "source": []
  }
 ],
 "metadata": {
  "kernelspec": {
   "display_name": "Python 3 (ipykernel)",
   "language": "python",
   "name": "python3"
  },
  "language_info": {
   "codemirror_mode": {
    "name": "ipython",
    "version": 3
   },
   "file_extension": ".py",
   "mimetype": "text/x-python",
   "name": "python",
   "nbconvert_exporter": "python",
   "pygments_lexer": "ipython3",
   "version": "3.11.4"
  }
 },
 "nbformat": 4,
 "nbformat_minor": 5
}
