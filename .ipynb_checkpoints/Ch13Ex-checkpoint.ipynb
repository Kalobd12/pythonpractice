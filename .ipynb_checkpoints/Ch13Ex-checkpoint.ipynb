{
 "cells": [
  {
   "cell_type": "code",
   "execution_count": 1,
   "id": "7adf4717",
   "metadata": {},
   "outputs": [],
   "source": [
    "import tkinter\n",
    "import tkinter.messagebox\n",
    "\n",
    "\n",
    "class MyGUI:\n",
    "    def __init__(self):\n",
    "        self.main_window = tkinter.Tk()\n",
    "            \n",
    "        self.main_window.title('Info')\n",
    "        \n",
    "        self.main_window.geometry('250x100')\n",
    "        \n",
    "        self.my_button = tkinter.Button(self.main_window, \n",
    "                                        text='Show Info',\n",
    "                                        command=self.do_something)\n",
    "                                            \n",
    "        self.quit_button = tkinter.Button(self.main_window,\n",
    "                                        text='Quit',\n",
    "                                        command=self.main_window.destroy)\n",
    "            \n",
    "        self.my_button.pack()\n",
    "        self.quit_button.pack()\n",
    "        tkinter.mainloop()\n",
    "            \n",
    "    def do_something(self):\n",
    "        tkinter.messagebox.showinfo('Your info',\n",
    "                                    'Steven Marcus'\n",
    "                                    '274 Baily Drive'\n",
    "                                    'Waynesville, NC 27999')\n",
    "                                        \n",
    "                                    \n",
    "                                        \n",
    "if __name__ == '__main__':\n",
    "    my_gui = MyGUI()\n",
    "    \n"
   ]
  },
  {
   "cell_type": "code",
   "execution_count": null,
   "id": "cbe3a7e1",
   "metadata": {},
   "outputs": [],
   "source": []
  }
 ],
 "metadata": {
  "kernelspec": {
   "display_name": "Python 3 (ipykernel)",
   "language": "python",
   "name": "python3"
  },
  "language_info": {
   "codemirror_mode": {
    "name": "ipython",
    "version": 3
   },
   "file_extension": ".py",
   "mimetype": "text/x-python",
   "name": "python",
   "nbconvert_exporter": "python",
   "pygments_lexer": "ipython3",
   "version": "3.11.4"
  }
 },
 "nbformat": 4,
 "nbformat_minor": 5
}
