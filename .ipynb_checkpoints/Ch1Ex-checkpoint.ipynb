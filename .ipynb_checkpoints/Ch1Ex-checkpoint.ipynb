{
 "cells": [
  {
   "cell_type": "markdown",
   "id": "f00ecfd9",
   "metadata": {},
   "source": [
    "# Chaptor 1 Ex.\n",
    "\n",
    "problems 1, 3, 5"
   ]
  },
  {
   "cell_type": "markdown",
   "id": "24b3f367",
   "metadata": {},
   "source": [
    "## Ex 1"
   ]
  },
  {
   "cell_type": "code",
   "execution_count": 1,
   "id": "79317d66",
   "metadata": {},
   "outputs": [
    {
     "name": "stdout",
     "output_type": "stream",
     "text": [
      "this is a test of the Python interpreter\n"
     ]
    }
   ],
   "source": [
    "print('this is a test of the Python interpreter')"
   ]
  },
  {
   "cell_type": "code",
   "execution_count": 2,
   "id": "5cb7110f",
   "metadata": {},
   "outputs": [
    {
     "name": "stdout",
     "output_type": "stream",
     "text": [
      "this might work: 9\n"
     ]
    }
   ],
   "source": [
    "print('this might work:', 9)"
   ]
  },
  {
   "cell_type": "code",
   "execution_count": 3,
   "id": "e677d84a",
   "metadata": {},
   "outputs": [
    {
     "name": "stdout",
     "output_type": "stream",
     "text": [
      "will this work: 10 11 12\n"
     ]
    }
   ],
   "source": [
    "print('will this work:', 10, 11, 12)"
   ]
  },
  {
   "cell_type": "markdown",
   "id": "4e11d1b8",
   "metadata": {},
   "source": [
    "## Ex 3"
   ]
  },
  {
   "cell_type": "code",
   "execution_count": null,
   "id": "c3d36302",
   "metadata": {},
   "outputs": [],
   "source": []
  }
 ],
 "metadata": {
  "kernelspec": {
   "display_name": "Python 3 (ipykernel)",
   "language": "python",
   "name": "python3"
  },
  "language_info": {
   "codemirror_mode": {
    "name": "ipython",
    "version": 3
   },
   "file_extension": ".py",
   "mimetype": "text/x-python",
   "name": "python",
   "nbconvert_exporter": "python",
   "pygments_lexer": "ipython3",
   "version": "3.11.4"
  }
 },
 "nbformat": 4,
 "nbformat_minor": 5
}
