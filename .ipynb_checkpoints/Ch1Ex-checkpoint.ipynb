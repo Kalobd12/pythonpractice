{
 "cells": [
  {
   "cell_type": "markdown",
   "id": "49576c01",
   "metadata": {},
   "source": [
    "# Chaptor 1 Ex.\n",
    "\n",
    "problems 1, 3, 5"
   ]
  },
  {
   "cell_type": "markdown",
   "id": "ec607880",
   "metadata": {},
   "source": [
    "## Ex 1\n",
    "\n",
    "The textbook asks us to use the python print statement with this particular string."
   ]
  },
  {
   "cell_type": "code",
   "execution_count": 4,
   "id": "d2c32d5e",
   "metadata": {},
   "outputs": [
    {
     "name": "stdout",
     "output_type": "stream",
     "text": [
      "this is a test of the Python interpreter\n"
     ]
    }
   ],
   "source": [
    "# demonstrating the print fuction\n",
    "print('this is a test of the Python interpreter')"
   ]
  },
  {
   "cell_type": "code",
   "execution_count": 2,
   "id": "4ec77d28",
   "metadata": {},
   "outputs": [
    {
     "name": "stdout",
     "output_type": "stream",
     "text": [
      "this might work: 9\n"
     ]
    }
   ],
   "source": [
    "# following coding sets walkthrough video\n",
    "print('this might work:', 9)"
   ]
  },
  {
   "cell_type": "code",
   "execution_count": 3,
   "id": "302c8acd",
   "metadata": {},
   "outputs": [
    {
     "name": "stdout",
     "output_type": "stream",
     "text": [
      "will this work: 10 11 12\n"
     ]
    }
   ],
   "source": [
    "# trying a few extra commas\n",
    "print('will this work:', 10, 11, 12)"
   ]
  },
  {
   "cell_type": "markdown",
   "id": "3e2f48c1",
   "metadata": {},
   "source": [
    "## Ex 3\n",
    "\n",
    "The textbook asks us to use what we learned about the binary numbering system in this chapter to convert the following decimal numbers to binary."
   ]
  },
  {
   "cell_type": "markdown",
   "id": "efb9df3c",
   "metadata": {},
   "source": [
    "decimal: 11   \n",
    "Powers of 2: 3  2  1  0       \n",
    "Place value: 8  4  2  1      \n",
    "      state:       1  0  1  1      \n",
    "_______________________\n",
    "             8+0+2+1+=11                \n",
    "Written in binary: 00001011                       \n",
    "If we subtract the largest power of 2 that will fit 11-8=3 if we try to subtract 4 from 3 it will not fit so we move down to\n",
    "3-2=1 then subtract 1-1=0.          \n",
    "             "
   ]
  },
  {
   "cell_type": "markdown",
   "id": "f7d0c1ed",
   "metadata": {},
   "source": [
    "decimal: 65        \n",
    "powers of 2: 6  5  4  3 2 1 0                 \n",
    "place value: 64 32 16 8 4 2 1         \n",
    "state:       1  0  0  0 0 0 1           \n",
    "______________________________\n",
    "             64+0+0+0+0+0+1=65        \n",
    "Written in binary: 01000001             \n",
    "If we subtract the largest power of 2 that will fit 65-64=1 the next power of 2 that will fit is 1-1=0.           "
   ]
  },
  {
   "cell_type": "markdown",
   "id": "1ea74148",
   "metadata": {},
   "source": [
    "decimal: 100       \n",
    "powers of 2: 6 5 4 3 2 1 0       \n",
    "place value: 64 32 16 8 4 2 1          \n",
    "state: 1 1 0 0 1 0 0            \n",
    "_____________________________         \n",
    "             64+32+4=100          \n",
    "Written in binary: 01100100                        \n",
    "If we subtract the largest power of 2 that will fit 100-64=36 we then subtract the next highest 36-32=4 then subtract the next power of 2 that will fit 4-4=0."
   ]
  },
  {
   "cell_type": "markdown",
   "id": "1d1129ed",
   "metadata": {},
   "source": [
    "decimal: 255              \n",
    "powers of 2: 7 6 5 4 3 2 1 0            \n",
    "place value: 128 64 32 16 8 4 2 1             \n",
    "state:       1 1 1 1 1 1 1 1              \n",
    "_________________________________                  \n",
    "             128+64+32+16+8+4+2+1=255           \n",
    "Written in binary: 11111111                         \n",
    "For this one you have to subtract every power of 2 from 7 through 0 which is 255-128-64-32-16-8-4-2-1=0           \n"
   ]
  },
  {
   "cell_type": "code",
   "execution_count": null,
   "id": "31a3e6aa",
   "metadata": {},
   "outputs": [],
   "source": []
  }
 ],
 "metadata": {
  "kernelspec": {
   "display_name": "Python 3 (ipykernel)",
   "language": "python",
   "name": "python3"
  },
  "language_info": {
   "codemirror_mode": {
    "name": "ipython",
    "version": 3
   },
   "file_extension": ".py",
   "mimetype": "text/x-python",
   "name": "python",
   "nbconvert_exporter": "python",
   "pygments_lexer": "ipython3",
   "version": "3.11.4"
  }
 },
 "nbformat": 4,
 "nbformat_minor": 5
}
