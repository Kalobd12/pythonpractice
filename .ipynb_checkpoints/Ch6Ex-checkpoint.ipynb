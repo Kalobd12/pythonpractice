{
 "cells": [
  {
   "cell_type": "markdown",
   "id": "1d31a4a1",
   "metadata": {},
   "source": [
    "# Chapter 6 Practice Questions\n",
    "\n",
    "Questions 1,"
   ]
  },
  {
   "cell_type": "markdown",
   "id": "e18991f3",
   "metadata": {},
   "source": [
    "## Question 1 Algorithm Workbench\n",
    "\n",
    "I write a program that opens an output file with the filename my_name.txt, writes my name to the file, then closes the file."
   ]
  },
  {
   "cell_type": "code",
   "execution_count": null,
   "id": "5b18107c",
   "metadata": {},
   "outputs": [],
   "source": [
    "# I first define the variable for my name that will be written into the file.\n",
    "name = 'Kalob Boston'\n",
    "\n",
    "# Define the main function that will be the start of my program.\n",
    "def main():\n",
    "    # Wrote the variable for the file, opens the file, and names it my_name.txt\n",
    "    # (If one doesn't exist it creates a new one because of 'w')\n",
    "    name_file = open('my_name.txt', 'w')\n"
   ]
  }
 ],
 "metadata": {
  "kernelspec": {
   "display_name": "Python 3 (ipykernel)",
   "language": "python",
   "name": "python3"
  },
  "language_info": {
   "codemirror_mode": {
    "name": "ipython",
    "version": 3
   },
   "file_extension": ".py",
   "mimetype": "text/x-python",
   "name": "python",
   "nbconvert_exporter": "python",
   "pygments_lexer": "ipython3",
   "version": "3.11.4"
  }
 },
 "nbformat": 4,
 "nbformat_minor": 5
}
