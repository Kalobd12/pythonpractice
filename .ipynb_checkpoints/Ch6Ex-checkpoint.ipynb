{
 "cells": [
  {
   "cell_type": "markdown",
   "id": "897cfbc4",
   "metadata": {},
   "source": [
    "# Chapter 6 Practice Questions\n",
    "\n",
    "Questions 1, 2, 1,"
   ]
  },
  {
   "cell_type": "markdown",
   "id": "e1bcc2ce",
   "metadata": {},
   "source": [
    "## Question 1 Algorithm Workbench\n",
    "\n",
    "I write a program that opens an output file with the filename my_name.txt, writes my name to the file, then closes the file."
   ]
  },
  {
   "cell_type": "code",
   "execution_count": 1,
   "id": "121ca40a",
   "metadata": {},
   "outputs": [],
   "source": [
    "# I first define the variable for my name that will be written into the file.\n",
    "name = 'Kalob Boston'\n",
    "\n",
    "# Define the main function that will be the start of my program.\n",
    "def main():\n",
    "    # Wrote the variable for the file, opens the file, and names it my_name.txt\n",
    "    # (If one doesn't exist it creates a new one because of 'w')\n",
    "    name_file = open('my_name.txt', 'w')\n",
    "    # Tells the program to write variable name (which is Kalob Boston) onto the text file.\n",
    "    name_file.write(name)\n",
    "    # This tells the file that is specified to close.\n",
    "    name_file.close()\n",
    "# calling the main function to run the program and create my_name.txt.\n",
    "main()\n"
   ]
  },
  {
   "cell_type": "markdown",
   "id": "56c17d6f",
   "metadata": {},
   "source": [
    "## Question 2 Algorithm Workbench\n",
    "\n",
    "I Write a program that opens the the file I made above. It then reads my name from the file and displays it on screen then closes the file."
   ]
  },
  {
   "cell_type": "code",
   "execution_count": 2,
   "id": "fd9f7610",
   "metadata": {},
   "outputs": [
    {
     "name": "stdout",
     "output_type": "stream",
     "text": [
      "Kalob Boston\n"
     ]
    }
   ],
   "source": [
    "# Define the main function that will be the start of my program.\n",
    "def main():\n",
    "    # Writing this opens the file and because of 'r' it is read only so the file cant be changed or edited.\n",
    "    name_file = open('my_name.txt', 'r')\n",
    "    # This tells the program to assign the contents of the file to the variable file_content.\n",
    "    file_contents = name_file.read()\n",
    "    # Tells the program to close the file.\n",
    "    name_file.close()\n",
    "    # I tell the program to print the contents of the file.\n",
    "    print(file_contents)\n",
    "# Calling the main function to run the program and read and display my_name.txt.    \n",
    "main()\n",
    "# Name shown below."
   ]
  },
  {
   "cell_type": "markdown",
   "id": "f133b094",
   "metadata": {},
   "source": [
    "## Question 1 File Display\n",
    "\n",
    "I write a program that displays all the numbers in a file containing a series of integers named numbers.txt."
   ]
  },
  {
   "cell_type": "code",
   "execution_count": 21,
   "id": "7bc576cf",
   "metadata": {},
   "outputs": [
    {
     "name": "stdout",
     "output_type": "stream",
     "text": [
      "1\n",
      "2\n",
      "3\n",
      "4\n",
      "5\n",
      "6\n",
      "7\n",
      "8\n",
      "9\n",
      "10\n"
     ]
    }
   ],
   "source": [
    "# Define the main function that will be the start of my program.\n",
    "def main():\n",
    "    # I open the file in read only using 'r'\n",
    "    number_file = open('numbers.txt', 'r')\n",
    "    # I initialize an accumulator\n",
    "    total = 0.0\n",
    "    # I initialize a variable to keep count of the numbers.\n",
    "    count = 0\n",
    "    # Using a for loop to display each number in its own line from numbers.txt\n",
    "    for line in number_file:\n",
    "        # Adds the number line by line into the count variable.\n",
    "        number = int(line)\n",
    "        # Adding a print function to print the contents of the file.\n",
    "        print(number)\n",
    "    # Closes the file specified below.     \n",
    "    number_file.close()\n",
    "# Calling the main function to run the program and read and display numbers.txt.      \n",
    "main()        "
   ]
  },
  {
   "cell_type": "markdown",
   "id": "c0cf2830",
   "metadata": {},
   "source": [
    "## Question 6 Average of Numbers\n",
    "\n",
    "I write a program that reads all the numbers stored in the file and calculates the average."
   ]
  },
  {
   "cell_type": "code",
   "execution_count": 22,
   "id": "ff18a1c6",
   "metadata": {},
   "outputs": [
    {
     "name": "stdout",
     "output_type": "stream",
     "text": [
      "1\n",
      "2\n",
      "3\n",
      "4\n",
      "5\n",
      "6\n",
      "7\n",
      "8\n",
      "9\n",
      "10\n",
      "the average of the numbers is: 5.5\n"
     ]
    }
   ],
   "source": [
    "## Two hashtags mean this is work for question 6.\n",
    "# Define the main function that will be the start of my program.\n",
    "def main():\n",
    "    # I open the file in read only using 'r'\n",
    "    number_file = open('numbers.txt', 'r')\n",
    "    # I initialize an accumulator\n",
    "    total = 0.0\n",
    "    # I initialize a variable to keep count of the numbers.\n",
    "    count = 0\n",
    "    # Using a for loop to display each number in its own line from numbers.txt\n",
    "    for line in number_file:\n",
    "        # Adds the number line by line into the count variable.\n",
    "        number = int(line)\n",
    "        \n",
    "\n",
    "        ## Creating total variable and adding all the counts to it.\n",
    "        total += number\n",
    "        ## Creating average variable that divides the total by the count.\n",
    "        average = total / number\n",
    "        \n",
    "        \n",
    "        # Adding a print function to print the contents of the file.\n",
    "        print(number)\n",
    "    # Closes the file specified below.     \n",
    "    number_file.close()\n",
    "    \n",
    "    ## created a print function to display the average of the numbers.\n",
    "    print('the average of the numbers is:', average)\n",
    "# Calling the main function to run the program and read and display numbers.txt.      \n",
    "main()  "
   ]
  },
  {
   "cell_type": "markdown",
   "id": "31700452",
   "metadata": {},
   "source": [
    "## Question 9 Exception Handling\n",
    "\n",
    "I modify my Question 6 work to handle both IOError exceptions that are raised and ValueError exceptions that are raised."
   ]
  },
  {
   "cell_type": "code",
   "execution_count": 5,
   "id": "eebc9a63",
   "metadata": {},
   "outputs": [
    {
     "name": "stdout",
     "output_type": "stream",
     "text": [
      "1\n",
      "2\n",
      "3\n",
      "4\n",
      "5\n",
      "6\n",
      "7\n",
      "8\n",
      "9\n",
      "10\n",
      "the average of the numbers is: 5.5\n"
     ]
    }
   ],
   "source": [
    "### Three hashtags mean this is work for question 9.\n",
    "## Two hashtags mean this is work for question 6.\n",
    "# Define the main function that will be the start of my program.\n",
    "def main():\n",
    "    # I open the file in read only using 'r'\n",
    "    number_file = open('numbers.txt', 'r')\n",
    "    # I initialize an accumulator\n",
    "    total = 0.0\n",
    "    # I initialize a variable to keep count of the numbers.\n",
    "    count = 0\n",
    "    \n",
    "    ### This causes the program to try and display the numbers and if it runs into issues it will use the excepts below.\n",
    "    try:\n",
    "    # Using a for loop to display each number in its own line from numbers.txt\n",
    "        for line in number_file:\n",
    "        # Adds the number line by line into the count variable.\n",
    "            number = int(line)\n",
    "        \n",
    "\n",
    "        ## Creating total variable and adding all the counts to it.\n",
    "            total += number\n",
    "        ## Creating average variable that divides the total by the count.\n",
    "            average = total / number\n",
    "        \n",
    "        \n",
    "        # Adding a print function to print the contents of the file.\n",
    "            print(number)\n",
    "    # Closes the file specified below.     \n",
    "        number_file.close()\n",
    "    \n",
    "    ## created a print function to display the average of the numbers.\n",
    "        print('the average of the numbers is:', average)\n",
    "    \n",
    "    ### Error displays when the file name doesn't exist and can't find what the program is looking for.\n",
    "    except IOError:\n",
    "        print('An error occured trying to read the file.')\n",
    "    ### Error displays when data is in the file that is non-numeric.   \n",
    "    except ValueError:\n",
    "        print('Non-numeric data found in the file.')\n",
    "        \n",
    "# Calling the main function to run the program and read and display numbers.txt.      \n",
    "main() "
   ]
  },
  {
   "cell_type": "code",
   "execution_count": null,
   "id": "e1c0c4dd",
   "metadata": {},
   "outputs": [],
   "source": []
  }
 ],
 "metadata": {
  "kernelspec": {
   "display_name": "Python 3 (ipykernel)",
   "language": "python",
   "name": "python3"
  },
  "language_info": {
   "codemirror_mode": {
    "name": "ipython",
    "version": 3
   },
   "file_extension": ".py",
   "mimetype": "text/x-python",
   "name": "python",
   "nbconvert_exporter": "python",
   "pygments_lexer": "ipython3",
   "version": "3.11.4"
  }
 },
 "nbformat": 4,
 "nbformat_minor": 5
}
