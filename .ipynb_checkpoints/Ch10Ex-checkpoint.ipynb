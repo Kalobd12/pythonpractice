{
 "cells": [
  {
   "cell_type": "markdown",
   "id": "4ab6917d",
   "metadata": {},
   "source": [
    "# Chapter 10 Practice Questions\n",
    "\n",
    "Questions 1, 3"
   ]
  },
  {
   "cell_type": "code",
   "execution_count": 83,
   "id": "6f8906a2",
   "metadata": {},
   "outputs": [
    {
     "name": "stdout",
     "output_type": "stream",
     "text": [
      "Enter pet name:frank\n",
      "Enter pet type:dog\n",
      "Enter pet age:8\n",
      "Here is the pet information you entered:\n",
      "Pet name: frank\n",
      "Pet type: dog\n",
      "Pet age: 8\n"
     ]
    }
   ],
   "source": [
    "# Import custom module.\n",
    "import petclass\n",
    "# Set starting point.\n",
    "def main():\n",
    "    # Assign variables for user to input data for pet information.\n",
    "    pet_name = input('Enter pet name:')\n",
    "    pet_type = input('Enter pet type:')\n",
    "    pet_age = input('Enter pet age:')\n",
    "    # Creating an instance for the class Pet.\n",
    "    pet_info = petclass.Pet(pet_name, pet_type, pet_age)\n",
    "    # Print functions to display the information the user input.\n",
    "    print('Here is the pet information you entered:')\n",
    "    print('Pet name:', pet_info.get_name())\n",
    "    print('Pet type:', pet_info.get_animal_type())\n",
    "    print('Pet age:', pet_info.get_age())\n",
    "# Calling main function.    \n",
    "main()"
   ]
  },
  {
   "cell_type": "code",
   "execution_count": 86,
   "id": "946bf3e5",
   "metadata": {},
   "outputs": [
    {
     "name": "stdout",
     "output_type": "stream",
     "text": [
      "My personal information is:\n",
      "Name: Kalob Boston \n",
      "Address: Lansing \n",
      "Age: 27 \n",
      "Phone: 2854629712\n",
      "My friends personal information is:\n",
      "Name: Waylon Burns \n",
      "Address: Grand Rapids \n",
      "Age: 25 \n",
      "Phone: 9384572201\n",
      "My friends personal information is:\n",
      "Name: Barbra Payne \n",
      "Address: Detroit \n",
      "Age: 32 \n",
      "Phone: 4253593852\n"
     ]
    }
   ],
   "source": [
    "# Import custom module.\n",
    "import personalinfo\n",
    "# Set starting point.\n",
    "def main():\n",
    "    # Creating three instances for the class PersonalData.\n",
    "    myinfo = personalinfo.PersonalData('Kalob Boston', 'Lansing', 27, '2854629712')\n",
    "    waylon = personalinfo.PersonalData('Waylon Burns', 'Grand Rapids', 25, '9384572201')\n",
    "    barbra = personalinfo.PersonalData('Barbra Payne', 'Detroit', 32, '4253593852')\n",
    "    # print function to display my personal information\n",
    "    print('My personal information is:')\n",
    "    print('Name:', myinfo.get_name(),\n",
    "          '\\nAddress:', myinfo.get_address(),\n",
    "          '\\nAge:', myinfo.get_age(),\n",
    "          '\\nPhone:', myinfo.get_phone_number())\n",
    "    # print function to display my friends personal information\n",
    "    print('My friends personal information is:')\n",
    "    print('Name:', waylon.get_name(),\n",
    "          '\\nAddress:', waylon.get_address(),\n",
    "          '\\nAge:', waylon.get_age(),\n",
    "          '\\nPhone:', waylon.get_phone_number())\n",
    "    # print function to display my friends personal information\n",
    "    print('My friends personal information is:')\n",
    "    print('Name:', barbra.get_name(),\n",
    "          '\\nAddress:', barbra.get_address(),\n",
    "          '\\nAge:', barbra.get_age(),\n",
    "          '\\nPhone:', barbra.get_phone_number())\n",
    "# calling main function.\n",
    "main()"
   ]
  },
  {
   "cell_type": "code",
   "execution_count": null,
   "id": "3488097f",
   "metadata": {},
   "outputs": [],
   "source": []
  }
 ],
 "metadata": {
  "kernelspec": {
   "display_name": "Python 3 (ipykernel)",
   "language": "python",
   "name": "python3"
  },
  "language_info": {
   "codemirror_mode": {
    "name": "ipython",
    "version": 3
   },
   "file_extension": ".py",
   "mimetype": "text/x-python",
   "name": "python",
   "nbconvert_exporter": "python",
   "pygments_lexer": "ipython3",
   "version": "3.11.4"
  }
 },
 "nbformat": 4,
 "nbformat_minor": 5
}
