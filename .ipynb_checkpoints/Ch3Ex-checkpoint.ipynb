{
 "cells": [
  {
   "cell_type": "markdown",
   "id": "74c9390a",
   "metadata": {},
   "source": [
    "# Code Set 3 (Chapter 3 Questions)\n",
    "\n",
    "Problems 4, 5, 1, 5, 15-18"
   ]
  },
  {
   "cell_type": "markdown",
   "id": "5f88fdcd",
   "metadata": {},
   "source": [
    "## Question 4 (Algorithm Workbench)"
   ]
  },
  {
   "cell_type": "code",
   "execution_count": 7,
   "id": "582a6ba8",
   "metadata": {},
   "outputs": [],
   "source": [
    "# Assigned numbers to the variables.\n",
    "A_SCORE, B_SCORE, C_SCORE, D_SCORE = 90, 80, 70, 60"
   ]
  },
  {
   "cell_type": "code",
   "execution_count": 8,
   "id": "7408ffd0",
   "metadata": {},
   "outputs": [
    {
     "name": "stdout",
     "output_type": "stream",
     "text": [
      "Enter your test score: 90\n"
     ]
    }
   ],
   "source": [
    "# Defined score and used input to put in test score.\n",
    "score = int(input('Enter your test score: '))"
   ]
  },
  {
   "cell_type": "code",
   "execution_count": 9,
   "id": "da041043",
   "metadata": {},
   "outputs": [
    {
     "name": "stdout",
     "output_type": "stream",
     "text": [
      "Your grade is A.\n"
     ]
    }
   ],
   "source": [
    "# My ebook has the code in a photo so I will type it out properly below.\n",
    "if score >= A_SCORE:\n",
    "    print('Your grade is A.')\n",
    "else:\n",
    "    if score >= B_SCORE:\n",
    "        print('Your grade is B.')\n",
    "    else:\n",
    "        if score >= C_SCORE:\n",
    "            print('Your grade is C.')\n",
    "        else:\n",
    "            if score >= D_SCORE:\n",
    "                print('Your grade is D.')\n",
    "            else:\n",
    "                print('Your grade is F.')\n",
    "# No need for a variable for F since if you're below 60 thats a failing grade."
   ]
  },
  {
   "cell_type": "markdown",
   "id": "5871aa56",
   "metadata": {},
   "source": [
    "## Question 5 (Algorithm Workbench)"
   ]
  },
  {
   "cell_type": "code",
   "execution_count": 10,
   "id": "ce002399",
   "metadata": {},
   "outputs": [
    {
     "name": "stdout",
     "output_type": "stream",
     "text": [
      "How much is Amount1: 26\n",
      "How much is amount2: 99\n"
     ]
    }
   ],
   "source": [
    "#I Start with inputting the variables with the input function.\n",
    "Amount1 = int(input('How much is Amount1: '))\n",
    "Amount2 = int(input('How much is amount2: '))"
   ]
  },
  {
   "cell_type": "code",
   "execution_count": 23,
   "id": "0758acb3",
   "metadata": {},
   "outputs": [
    {
     "name": "stdout",
     "output_type": "stream",
     "text": [
      "Amount2 is greater with a value of: 99\n"
     ]
    }
   ],
   "source": [
    "# I write the nested if-else statement to display the greater of Amount1 or Amount2.\n",
    "if Amount1 > Amount2:\n",
    "    print('Amount1 is greater with a value of:',Amount1)\n",
    "else:\n",
    "    if Amount2 > Amount1:\n",
    "        print('Amount2 is greater with a value of:',Amount2)\n",
    "# Below the greater value is displayed."
   ]
  },
  {
   "cell_type": "markdown",
   "id": "785bfe1e",
   "metadata": {},
   "source": [
    "## Question 1 (Programming Exercises)"
   ]
  },
  {
   "cell_type": "code",
   "execution_count": 25,
   "id": "048b72a7",
   "metadata": {},
   "outputs": [
    {
     "name": "stdout",
     "output_type": "stream",
     "text": [
      "Enter a number from 1 to 7: 4\n"
     ]
    }
   ],
   "source": [
    "# I write a input function to have the user input a number.\n",
    "day = int(input('Enter a number from 1 to 7: '))"
   ]
  },
  {
   "cell_type": "code",
   "execution_count": 27,
   "id": "4468a48d",
   "metadata": {},
   "outputs": [
    {
     "name": "stdout",
     "output_type": "stream",
     "text": [
      "4 is Thursday\n"
     ]
    }
   ],
   "source": [
    "# I write the nested if-else program to display the day based on what the user inputs.\n",
    "if day == 1:\n",
    "    print(day, 'is Monday')\n",
    "else:\n",
    "    if day == 2:\n",
    "        print(day, 'is Tuesday')\n",
    "    else:\n",
    "        if day == 3:\n",
    "            print(day, 'is Wednesday')\n",
    "        else:\n",
    "            if day == 4:\n",
    "                print(day, 'is Thursday')\n",
    "            else:\n",
    "                if day == 5:\n",
    "                    print(day, 'is Friday')\n",
    "                else:\n",
    "                    if day == 6:\n",
    "                        print(day, 'is Saturday')\n",
    "                    else:\n",
    "                        if day == 7:\n",
    "                            print(day, 'is Sunday')\n",
    "                        else:\n",
    "                            print('Incorrect input, Please endter a number from 1-7')\n",
    "# If input value is not 1-7 it will desplay the error message above."
   ]
  },
  {
   "cell_type": "markdown",
   "id": "71e1bb89",
   "metadata": {},
   "source": [
    "## Question 5 (Programming Exercises)"
   ]
  },
  {
   "cell_type": "code",
   "execution_count": 42,
   "id": "90870ab1",
   "metadata": {},
   "outputs": [],
   "source": [
    "# I input the formula for measuring weight in newtons based on mass\n",
    "weight = mass * 9.8"
   ]
  },
  {
   "cell_type": "code",
   "execution_count": 43,
   "id": "adec970d",
   "metadata": {},
   "outputs": [
    {
     "name": "stdout",
     "output_type": "stream",
     "text": [
      "Enter the objects mass: 30\n"
     ]
    }
   ],
   "source": [
    "# I use the input function to ask the user to input the mass of the object.\n",
    "mass = int(input('Enter the objects mass: '))"
   ]
  },
  {
   "cell_type": "code",
   "execution_count": 44,
   "id": "14334ca9",
   "metadata": {},
   "outputs": [
    {
     "name": "stdout",
     "output_type": "stream",
     "text": [
      "The weight is: 294.0 newtons\n"
     ]
    }
   ],
   "source": [
    "# I write an if-else program to display a different response based on what the user inputs.\n",
    "if weight < 100:\n",
    "    print('Object is too light')\n",
    "else:\n",
    "    if weight >= 100 and weight <= 500:\n",
    "        print('The weight is:',weight ,'newtons')\n",
    "    else:\n",
    "        if weight > 500:\n",
    "            print('Object is too heavy')\n",
    "# It will either display Object is too light, Object is too heavy, or the value in newtons."
   ]
  },
  {
   "cell_type": "markdown",
   "id": "787008c4",
   "metadata": {},
   "source": [
    "## Question 18 (Restaurant Selector)\n",
    "\n",
    "Following along and iterating with the video."
   ]
  },
  {
   "cell_type": "code",
   "execution_count": 56,
   "id": "abd285e4",
   "metadata": {},
   "outputs": [
    {
     "name": "stdout",
     "output_type": "stream",
     "text": [
      "Is anyone in your party a vegetarian?\n",
      "no\n"
     ]
    }
   ],
   "source": [
    "# Writing the input functions so the user can input yes or no based on their dietary restrictions.\n",
    "print('Is anyone in your party a vegetarian?')\n",
    "vegetarian = input().lower().strip()"
   ]
  },
  {
   "cell_type": "code",
   "execution_count": 57,
   "id": "3b2984bd",
   "metadata": {},
   "outputs": [
    {
     "name": "stdout",
     "output_type": "stream",
     "text": [
      "Is anyone in your party a vegan?\n",
      "no\n"
     ]
    }
   ],
   "source": [
    "# copied string over and replaced variable.\n",
    "print('Is anyone in your party a vegan?')\n",
    "vegan = input().lower().strip()"
   ]
  },
  {
   "cell_type": "code",
   "execution_count": 58,
   "id": "1f012480",
   "metadata": {},
   "outputs": [
    {
     "ename": "SyntaxError",
     "evalue": "cannot assign to expression here. Maybe you meant '==' instead of '='? (4191420811.py, line 2)",
     "output_type": "error",
     "traceback": [
      "\u001b[1;36m  Cell \u001b[1;32mIn[58], line 2\u001b[1;36m\u001b[0m\n\u001b[1;33m    gluten-free = input().lower().strip()\u001b[0m\n\u001b[1;37m    ^\u001b[0m\n\u001b[1;31mSyntaxError\u001b[0m\u001b[1;31m:\u001b[0m cannot assign to expression here. Maybe you meant '==' instead of '='?\n"
     ]
    }
   ],
   "source": [
    "# copied string over and replaced variable and changed - to _.\n",
    "print('Is anyone in your party a gluten-free?')\n",
    "gluten_free = input().lower().strip()"
   ]
  },
  {
   "cell_type": "code",
   "execution_count": 59,
   "id": "78da5ffb",
   "metadata": {},
   "outputs": [
    {
     "name": "stdout",
     "output_type": "stream",
     "text": [
      "here are your restaurant choices\n"
     ]
    }
   ],
   "source": [
    "#\n",
    "print('here are your restaurant choices')"
   ]
  },
  {
   "cell_type": "code",
   "execution_count": 49,
   "id": "bc02d1bd",
   "metadata": {},
   "outputs": [
    {
     "data": {
      "text/plain": [
       "True"
      ]
     },
     "execution_count": 49,
     "metadata": {},
     "output_type": "execute_result"
    }
   ],
   "source": [
    "vegetarian == 'yes'"
   ]
  },
  {
   "cell_type": "code",
   "execution_count": null,
   "id": "57e58dcc",
   "metadata": {},
   "outputs": [],
   "source": []
  }
 ],
 "metadata": {
  "kernelspec": {
   "display_name": "Python 3 (ipykernel)",
   "language": "python",
   "name": "python3"
  },
  "language_info": {
   "codemirror_mode": {
    "name": "ipython",
    "version": 3
   },
   "file_extension": ".py",
   "mimetype": "text/x-python",
   "name": "python",
   "nbconvert_exporter": "python",
   "pygments_lexer": "ipython3",
   "version": "3.11.4"
  }
 },
 "nbformat": 4,
 "nbformat_minor": 5
}
