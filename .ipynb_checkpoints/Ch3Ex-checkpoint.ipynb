{
 "cells": [
  {
   "cell_type": "markdown",
   "id": "74c9390a",
   "metadata": {},
   "source": [
    "# Code Set 3 (Chapter 3 Questions)\n",
    "\n",
    "Problems 4, 5, 1, 5, 15-18"
   ]
  },
  {
   "cell_type": "markdown",
   "id": "3a589e8e",
   "metadata": {},
   "source": [
    "## Question 4 (Algorithm Workbench)"
   ]
  },
  {
   "cell_type": "code",
   "execution_count": 7,
   "id": "183d5b67",
   "metadata": {},
   "outputs": [],
   "source": [
    "# Assigned numbers to the variables.\n",
    "A_SCORE, B_SCORE, C_SCORE, D_SCORE = 90, 80, 70, 60"
   ]
  },
  {
   "cell_type": "code",
   "execution_count": 8,
   "id": "37acf9f5",
   "metadata": {},
   "outputs": [
    {
     "name": "stdout",
     "output_type": "stream",
     "text": [
      "Enter your test score: 90\n"
     ]
    }
   ],
   "source": [
    "# Defined score and used input to put in test score.\n",
    "score = int(input('Enter your test score: '))"
   ]
  },
  {
   "cell_type": "code",
   "execution_count": 9,
   "id": "2755bb0a",
   "metadata": {},
   "outputs": [
    {
     "name": "stdout",
     "output_type": "stream",
     "text": [
      "Your grade is A.\n"
     ]
    }
   ],
   "source": [
    "# My ebook has the code in a photo so I will type it out properly below.\n",
    "if score >= A_SCORE:\n",
    "    print('Your grade is A.')\n",
    "else:\n",
    "    if score >= B_SCORE:\n",
    "        print('Your grade is B.')\n",
    "    else:\n",
    "        if score >= C_SCORE:\n",
    "            print('Your grade is C.')\n",
    "        else:\n",
    "            if score >= D_SCORE:\n",
    "                print('Your grade is D.')\n",
    "            else:\n",
    "                print('Your grade is F.')\n",
    "# No need for a variable for F since if you're below 60 thats a failing grade."
   ]
  },
  {
   "cell_type": "markdown",
   "id": "4153c2c1",
   "metadata": {},
   "source": [
    "## Question 5 (Algorithm Workbench)"
   ]
  },
  {
   "cell_type": "code",
   "execution_count": 10,
   "id": "71d300b9",
   "metadata": {},
   "outputs": [
    {
     "name": "stdout",
     "output_type": "stream",
     "text": [
      "How much is Amount1: 26\n",
      "How much is amount2: 99\n"
     ]
    }
   ],
   "source": [
    "#I Start with inputting the variables with the input function.\n",
    "Amount1 = int(input('How much is Amount1: '))\n",
    "Amount2 = int(input('How much is amount2: '))"
   ]
  },
  {
   "cell_type": "code",
   "execution_count": 23,
   "id": "4e07956c",
   "metadata": {},
   "outputs": [
    {
     "name": "stdout",
     "output_type": "stream",
     "text": [
      "Amount2 is greater with a value of: 99\n"
     ]
    }
   ],
   "source": [
    "# I write the nested if-else statement to display the greater of Amount1 or Amount2.\n",
    "if Amount1 > Amount2:\n",
    "    print('Amount1 is greater with a value of:',Amount1)\n",
    "else:\n",
    "    if Amount2 > Amount1:\n",
    "        print('Amount2 is greater with a value of:',Amount2)\n",
    "# Below the greater value is displayed."
   ]
  },
  {
   "cell_type": "markdown",
   "id": "08bd1e51",
   "metadata": {},
   "source": [
    "## Question 1 (Programming Exercises)"
   ]
  },
  {
   "cell_type": "code",
   "execution_count": 25,
   "id": "2ddf0df2",
   "metadata": {},
   "outputs": [
    {
     "name": "stdout",
     "output_type": "stream",
     "text": [
      "Enter a number from 1 to 7: 4\n"
     ]
    }
   ],
   "source": [
    "# I write a input function to have the user input a number.\n",
    "day = int(input('Enter a number from 1 to 7: '))"
   ]
  },
  {
   "cell_type": "code",
   "execution_count": 27,
   "id": "96a9fd5f",
   "metadata": {},
   "outputs": [
    {
     "name": "stdout",
     "output_type": "stream",
     "text": [
      "4 is Thursday\n"
     ]
    }
   ],
   "source": [
    "# I write the nested if-else program to display the day based on what the user inputs.\n",
    "if day == 1:\n",
    "    print(day, 'is Monday')\n",
    "else:\n",
    "    if day == 2:\n",
    "        print(day, 'is Tuesday')\n",
    "    else:\n",
    "        if day == 3:\n",
    "            print(day, 'is Wednesday')\n",
    "        else:\n",
    "            if day == 4:\n",
    "                print(day, 'is Thursday')\n",
    "            else:\n",
    "                if day == 5:\n",
    "                    print(day, 'is Friday')\n",
    "                else:\n",
    "                    if day == 6:\n",
    "                        print(day, 'is Saturday')\n",
    "                    else:\n",
    "                        if day == 7:\n",
    "                            print(day, 'is Sunday')\n",
    "                        else:\n",
    "                            print('Incorrect input, Please endter a number from 1-7')\n",
    "# If input value is not 1-7 it will desplay the error message above."
   ]
  },
  {
   "cell_type": "markdown",
   "id": "5d117965",
   "metadata": {},
   "source": [
    "## Question 5 (Programming Exercises)"
   ]
  },
  {
   "cell_type": "code",
   "execution_count": 42,
   "id": "9abe36b3",
   "metadata": {},
   "outputs": [],
   "source": [
    "# I input the formula for measuring weight in newtons based on mass\n",
    "weight = mass * 9.8"
   ]
  },
  {
   "cell_type": "code",
   "execution_count": 43,
   "id": "e3afae20",
   "metadata": {},
   "outputs": [
    {
     "name": "stdout",
     "output_type": "stream",
     "text": [
      "Enter the objects mass: 30\n"
     ]
    }
   ],
   "source": [
    "# I use the input function to ask the user to input the mass of the object.\n",
    "mass = int(input('Enter the objects mass: '))"
   ]
  },
  {
   "cell_type": "code",
   "execution_count": 44,
   "id": "02229232",
   "metadata": {},
   "outputs": [
    {
     "name": "stdout",
     "output_type": "stream",
     "text": [
      "The weight is: 294.0 newtons\n"
     ]
    }
   ],
   "source": [
    "# I write an if-else program to display a different response based on what the user inputs.\n",
    "if weight < 100:\n",
    "    print('Object is too light')\n",
    "else:\n",
    "    if weight >= 100 and weight <= 500:\n",
    "        print('The weight is:',weight ,'newtons')\n",
    "    else:\n",
    "        if weight > 500:\n",
    "            print('Object is too heavy')\n",
    "# It will either display Object is too light, Object is too heavy, or the value in newtons."
   ]
  },
  {
   "cell_type": "markdown",
   "id": "ec41f926",
   "metadata": {},
   "source": [
    "## Question 18 (Restaurant Selector)\n",
    "\n",
    "Following along and iterating with the video."
   ]
  },
  {
   "cell_type": "code",
   "execution_count": 45,
   "id": "c844b909",
   "metadata": {},
   "outputs": [
    {
     "name": "stdout",
     "output_type": "stream",
     "text": [
      "Is anyone in your party a vegetarian?\n",
      "yes\n"
     ]
    }
   ],
   "source": [
    "# Writing the input functions so the user can input yes or no based on their dietary restrictions.\n",
    "print('Is anyone in your party a vegetarian?')\n",
    "vegetarian = input()"
   ]
  },
  {
   "cell_type": "code",
   "execution_count": 46,
   "id": "911fb4ad",
   "metadata": {},
   "outputs": [
    {
     "data": {
      "text/plain": [
       "'yes'"
      ]
     },
     "execution_count": 46,
     "metadata": {},
     "output_type": "execute_result"
    }
   ],
   "source": [
    "vegetarian"
   ]
  },
  {
   "cell_type": "code",
   "execution_count": 47,
   "id": "abcfcd5e",
   "metadata": {},
   "outputs": [
    {
     "data": {
      "text/plain": [
       "False"
      ]
     },
     "execution_count": 47,
     "metadata": {},
     "output_type": "execute_result"
    }
   ],
   "source": [
    "vegetarian == 'YES'"
   ]
  },
  {
   "cell_type": "code",
   "execution_count": 48,
   "id": "91ea5e62",
   "metadata": {},
   "outputs": [
    {
     "data": {
      "text/plain": [
       "False"
      ]
     },
     "execution_count": 48,
     "metadata": {},
     "output_type": "execute_result"
    }
   ],
   "source": [
    "vegetarian == 'Yes'"
   ]
  },
  {
   "cell_type": "code",
   "execution_count": 49,
   "id": "3b5f701c",
   "metadata": {},
   "outputs": [
    {
     "data": {
      "text/plain": [
       "True"
      ]
     },
     "execution_count": 49,
     "metadata": {},
     "output_type": "execute_result"
    }
   ],
   "source": [
    "vegetarian == 'yes'"
   ]
  },
  {
   "cell_type": "code",
   "execution_count": null,
   "id": "b250fac1",
   "metadata": {},
   "outputs": [],
   "source": []
  }
 ],
 "metadata": {
  "kernelspec": {
   "display_name": "Python 3 (ipykernel)",
   "language": "python",
   "name": "python3"
  },
  "language_info": {
   "codemirror_mode": {
    "name": "ipython",
    "version": 3
   },
   "file_extension": ".py",
   "mimetype": "text/x-python",
   "name": "python",
   "nbconvert_exporter": "python",
   "pygments_lexer": "ipython3",
   "version": "3.11.4"
  }
 },
 "nbformat": 4,
 "nbformat_minor": 5
}
