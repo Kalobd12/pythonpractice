{
 "cells": [
  {
   "cell_type": "markdown",
   "id": "a4dcb561",
   "metadata": {},
   "source": [
    "# Chapter 5 Practice Questions\n",
    "\n",
    "Questions 1,"
   ]
  },
  {
   "cell_type": "markdown",
   "id": "9fe6de49",
   "metadata": {},
   "source": [
    "## Question 1 Algorithm Workbench\n",
    "\n",
    "I write a function named times_ten that accepts an argument and displays the product of its argument multiplied by 10."
   ]
  },
  {
   "cell_type": "code",
   "execution_count": 1,
   "id": "46b293b2",
   "metadata": {},
   "outputs": [
    {
     "name": "stdout",
     "output_type": "stream",
     "text": [
      "100\n"
     ]
    }
   ],
   "source": [
    "# I define the main function to input the value and times_ten.\n",
    "def main():\n",
    "    value = 10\n",
    "    times_ten(value)\n",
    "\n",
    "# I assign times_ten to accept an argument and display ten times its value.   \n",
    "def times_ten(number):\n",
    "    result = number * 10\n",
    "    print(result)\n",
    "# I call the main function to times_ten by the value and display the result.\n",
    "main()"
   ]
  },
  {
   "cell_type": "code",
   "execution_count": 2,
   "id": "39fa1576",
   "metadata": {},
   "outputs": [
    {
     "name": "stdout",
     "output_type": "stream",
     "text": [
      "50\n",
      "80\n",
      "402.2\n"
     ]
    }
   ],
   "source": [
    "# writing test statements to check different values.\n",
    "times_ten(5)\n",
    "times_ten(8)\n",
    "times_ten(40.22)"
   ]
  },
  {
   "cell_type": "markdown",
   "id": "9f49a0e5",
   "metadata": {},
   "source": [
    "## Question 2 Algorithm Workbench\n",
    "\n",
    "I examine the function header and then write a statement that calls the function passing 12 as an argument."
   ]
  },
  {
   "cell_type": "code",
   "execution_count": 3,
   "id": "6737d9a4",
   "metadata": {},
   "outputs": [
    {
     "name": "stdout",
     "output_type": "stream",
     "text": [
      "12\n"
     ]
    }
   ],
   "source": [
    "# I define the main function and input the value and show_value\n",
    "def main():\n",
    "    value = 12\n",
    "    show_value(value)\n",
    "# I write the function header from the question and assign a print function for the value.\n",
    "def show_value(quantity):\n",
    "    print(quantity) \n",
    "# I call the main function to display the value.    \n",
    "main()    "
   ]
  },
  {
   "cell_type": "markdown",
   "id": "8c2cf4ac",
   "metadata": {},
   "source": [
    "## Question 1 Programming Exercises\n",
    "\n",
    "I write a program that asks the user to enter a distance in kilometers, then it converts the distance to miles."
   ]
  },
  {
   "cell_type": "code",
   "execution_count": 4,
   "id": "7614b00e",
   "metadata": {},
   "outputs": [
    {
     "name": "stdout",
     "output_type": "stream",
     "text": [
      "Enter the distance in kilometers: 5\n",
      "5.0 Kilometers converts to 3.11, miles.\n"
     ]
    }
   ],
   "source": [
    "# I define the main function and write a float input function to ask the user to input the distance in kilometers.\n",
    "def main():\n",
    "    kilometers = float(input('Enter the distance in kilometers: '))\n",
    "    conversion(kilometers)\n",
    "# I add the conversion for kilometers to miles and use a print function to display the conversion for the user.\n",
    "def conversion(kilometers):\n",
    "    miles = kilometers * 0.6214\n",
    "# I add an f-string to lower the decimals to 2.\n",
    "    print(f'{kilometers} Kilometers converts to {miles:.2f}, miles.')\n",
    "# Call the main function to display the result.\n",
    "main()    "
   ]
  },
  {
   "cell_type": "markdown",
   "id": "f9cecc4c",
   "metadata": {},
   "source": [
    "## Question 17 Prime Numbers\n",
    "\n",
    "I write a boolean function named is_prime which takes an interger as an argument and returns true if prime otherwise false. Using the function in the program to prompt the user to enter a number then display if it is prime or not."
   ]
  },
  {
   "cell_type": "code",
   "execution_count": 8,
   "id": "89ad66ec",
   "metadata": {},
   "outputs": [
    {
     "name": "stdout",
     "output_type": "stream",
     "text": [
      "Please enter an integer to test for a prime: 4\n"
     ]
    },
    {
     "ename": "TypeError",
     "evalue": "must be real number, not str",
     "output_type": "error",
     "traceback": [
      "\u001b[1;31m---------------------------------------------------------------------------\u001b[0m",
      "\u001b[1;31mTypeError\u001b[0m                                 Traceback (most recent call last)",
      "Cell \u001b[1;32mIn[8], line 18\u001b[0m\n\u001b[0;32m     15\u001b[0m             \u001b[38;5;28;01mreturn\u001b[39;00m \u001b[38;5;28;01mFalse\u001b[39;00m\n\u001b[0;32m     16\u001b[0m     \u001b[38;5;28;01mreturn\u001b[39;00m \u001b[38;5;28;01mTrue\u001b[39;00m\n\u001b[1;32m---> 18\u001b[0m main()\n",
      "Cell \u001b[1;32mIn[8], line 7\u001b[0m, in \u001b[0;36mmain\u001b[1;34m()\u001b[0m\n\u001b[0;32m      5\u001b[0m     num \u001b[38;5;241m=\u001b[39m \u001b[38;5;28minput\u001b[39m(\u001b[38;5;124m'\u001b[39m\u001b[38;5;124mPlease enter an integer to test for a prime: \u001b[39m\u001b[38;5;124m'\u001b[39m)\n\u001b[0;32m      6\u001b[0m \u001b[38;5;66;03m# Added if-else statement to display a print function based on if the number is prime or not.    \u001b[39;00m\n\u001b[1;32m----> 7\u001b[0m     \u001b[38;5;28;01mif\u001b[39;00m is_prime(num):\n\u001b[0;32m      8\u001b[0m         \u001b[38;5;28mprint\u001b[39m(num, \u001b[38;5;124m'\u001b[39m\u001b[38;5;124mis a prime number\u001b[39m\u001b[38;5;124m'\u001b[39m)\n\u001b[0;32m      9\u001b[0m     \u001b[38;5;28;01melse\u001b[39;00m:\n",
      "Cell \u001b[1;32mIn[8], line 13\u001b[0m, in \u001b[0;36mis_prime\u001b[1;34m(num)\u001b[0m\n\u001b[0;32m     12\u001b[0m \u001b[38;5;28;01mdef\u001b[39;00m \u001b[38;5;21mis_prime\u001b[39m(num):\n\u001b[1;32m---> 13\u001b[0m     \u001b[38;5;28;01mfor\u001b[39;00m i \u001b[38;5;129;01min\u001b[39;00m \u001b[38;5;28mrange\u001b[39m(\u001b[38;5;241m2\u001b[39m, math\u001b[38;5;241m.\u001b[39mfloor(math\u001b[38;5;241m.\u001b[39msqrt(num)) \u001b[38;5;241m+\u001b[39m \u001b[38;5;241m1\u001b[39m):\n\u001b[0;32m     14\u001b[0m         \u001b[38;5;28;01mif\u001b[39;00m num \u001b[38;5;241m%\u001b[39m i \u001b[38;5;241m==\u001b[39m \u001b[38;5;241m0\u001b[39m:\n\u001b[0;32m     15\u001b[0m             \u001b[38;5;28;01mreturn\u001b[39;00m \u001b[38;5;28;01mFalse\u001b[39;00m\n",
      "\u001b[1;31mTypeError\u001b[0m: must be real number, not str"
     ]
    }
   ],
   "source": [
    "# Importing math to use math functions.\n",
    "import math\n",
    "# Defining main function to ask user to input an integer to test if a prime number.\n",
    "def main():\n",
    "    num = input('Please enter an integer to test for a prime: ')\n",
    "# Added if-else statement to display a print function based on if the number is prime or not.    \n",
    "    if is_prime(num):\n",
    "        print(num, 'is a prime number')\n",
    "    else:\n",
    "        print(num, 'is not a prime number')\n",
    "\n",
    "def is_prime(num):\n",
    "    for i in range(2, math.floor(math.sqrt(num)) + 1):\n",
    "        if num % i == 0:\n",
    "            return False\n",
    "    return True\n",
    "\n",
    "main()"
   ]
  },
  {
   "cell_type": "code",
   "execution_count": null,
   "id": "ab934ed6",
   "metadata": {},
   "outputs": [],
   "source": []
  },
  {
   "cell_type": "code",
   "execution_count": 6,
   "id": "647afe2d",
   "metadata": {},
   "outputs": [
    {
     "data": {
      "text/plain": [
       "True"
      ]
     },
     "execution_count": 6,
     "metadata": {},
     "output_type": "execute_result"
    }
   ],
   "source": [
    "is_prime(7)"
   ]
  },
  {
   "cell_type": "code",
   "execution_count": 7,
   "id": "a0f47783",
   "metadata": {},
   "outputs": [
    {
     "data": {
      "text/plain": [
       "False"
      ]
     },
     "execution_count": 7,
     "metadata": {},
     "output_type": "execute_result"
    }
   ],
   "source": [
    "is_prime(57)"
   ]
  },
  {
   "cell_type": "code",
   "execution_count": null,
   "id": "c4759006",
   "metadata": {},
   "outputs": [],
   "source": []
  }
 ],
 "metadata": {
  "kernelspec": {
   "display_name": "Python 3 (ipykernel)",
   "language": "python",
   "name": "python3"
  },
  "language_info": {
   "codemirror_mode": {
    "name": "ipython",
    "version": 3
   },
   "file_extension": ".py",
   "mimetype": "text/x-python",
   "name": "python",
   "nbconvert_exporter": "python",
   "pygments_lexer": "ipython3",
   "version": "3.11.4"
  }
 },
 "nbformat": 4,
 "nbformat_minor": 5
}
