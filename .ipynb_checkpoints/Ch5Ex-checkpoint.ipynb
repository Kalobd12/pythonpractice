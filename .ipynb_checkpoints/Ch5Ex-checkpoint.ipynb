{
 "cells": [
  {
   "cell_type": "markdown",
   "id": "a4dcb561",
   "metadata": {},
   "source": [
    "# Chapter 5 Practice Questions\n",
    "\n",
    "Questions 1,"
   ]
  },
  {
   "cell_type": "markdown",
   "id": "9fe6de49",
   "metadata": {},
   "source": [
    "## Question 1 Algorithm Workbench\n",
    "\n",
    "I write a function named times_ten that accepts an argument and displays the product of its argument multiplied by 10."
   ]
  },
  {
   "cell_type": "code",
   "execution_count": 16,
   "id": "46b293b2",
   "metadata": {},
   "outputs": [
    {
     "name": "stdout",
     "output_type": "stream",
     "text": [
      "100\n"
     ]
    }
   ],
   "source": [
    "# I define the main function to input the value and times_ten.\n",
    "def main():\n",
    "    value = 10\n",
    "    times_ten(value)\n",
    "\n",
    "# I assign times_ten to accept an argument and display ten times its value.   \n",
    "def times_ten(number):\n",
    "    result = number * 10\n",
    "    print(result)\n",
    "# I call the main function to times_ten by the value and display the result.\n",
    "main()"
   ]
  },
  {
   "cell_type": "code",
   "execution_count": 25,
   "id": "2f9314ac",
   "metadata": {},
   "outputs": [
    {
     "name": "stdout",
     "output_type": "stream",
     "text": [
      "50\n",
      "80\n",
      "402.2\n"
     ]
    }
   ],
   "source": [
    "# writing test statements to check different values.\n",
    "times_ten(5)\n",
    "times_ten(8)\n",
    "times_ten(40.22)"
   ]
  },
  {
   "cell_type": "markdown",
   "id": "d5185c68",
   "metadata": {},
   "source": [
    "## Question 2 Algorithm Workbench\n",
    "\n",
    "I examine the function header and then write a statement that calls the function passing 12 as an argument."
   ]
  },
  {
   "cell_type": "code",
   "execution_count": 62,
   "id": "fd0eaa02",
   "metadata": {},
   "outputs": [
    {
     "name": "stdout",
     "output_type": "stream",
     "text": [
      "12\n"
     ]
    }
   ],
   "source": [
    "# I define the main function and input the value and show_value\n",
    "def main():\n",
    "    value = 12\n",
    "    show_value(value)\n",
    "# I write the function header from the question and assign a print function for the value.\n",
    "def show_value(quantity):\n",
    "    print(quantity) \n",
    "# I call the main function to display the value.    \n",
    "main()    "
   ]
  },
  {
   "cell_type": "markdown",
   "id": "0e18c97e",
   "metadata": {},
   "source": [
    "## Question 1 Programming Exercises\n",
    "\n",
    "I write a program that asks the user to enter a distance in kilometers, then it converts the distance to miles."
   ]
  },
  {
   "cell_type": "code",
   "execution_count": 72,
   "id": "7d121134",
   "metadata": {},
   "outputs": [
    {
     "name": "stdout",
     "output_type": "stream",
     "text": [
      "Enter the distance in kilometers: 5\n",
      "5.0 Kilometers converts to 3.11, miles.\n"
     ]
    }
   ],
   "source": [
    "# I define the main function and write a float input function to ask the user to input the distance in kilometers.\n",
    "def main():\n",
    "    kilometers = float(input('Enter the distance in kilometers: '))\n",
    "    conversion(kilometers)\n",
    "# I add the conversion for kilometers to miles and use a print function to display the conversion for the user.\n",
    "def conversion(kilometers):\n",
    "    miles = kilometers * 0.6214\n",
    "# I add an f-string to lower the decimals to 2.\n",
    "    print(f'{kilometers} Kilometers converts to {miles:.2f}, miles.')\n",
    "# call the main function to display the result.\n",
    "main()    "
   ]
  },
  {
   "cell_type": "markdown",
   "id": "74e02698",
   "metadata": {},
   "source": [
    "## Question 17 Prime Numbers\n",
    "\n",
    "I write a boolean function named is_prime which takes an interger as an argument and returns true if prime otherwise false. Using the function in the program to prompt the user to enter a number then display if it is prime or not."
   ]
  },
  {
   "cell_type": "code",
   "execution_count": 86,
   "id": "e7578424",
   "metadata": {},
   "outputs": [],
   "source": [
    "def is_prime(num):\n",
    "    for i in range(2, num):\n",
    "        if num % i == 0:\n",
    "            return false"
   ]
  },
  {
   "cell_type": "code",
   "execution_count": 87,
   "id": "7a8b0c90",
   "metadata": {},
   "outputs": [
    {
     "ename": "NameError",
     "evalue": "name 'false' is not defined",
     "output_type": "error",
     "traceback": [
      "\u001b[1;31m---------------------------------------------------------------------------\u001b[0m",
      "\u001b[1;31mNameError\u001b[0m                                 Traceback (most recent call last)",
      "Cell \u001b[1;32mIn[87], line 1\u001b[0m\n\u001b[1;32m----> 1\u001b[0m is_prime(\u001b[38;5;241m4\u001b[39m)\n",
      "Cell \u001b[1;32mIn[86], line 4\u001b[0m, in \u001b[0;36mis_prime\u001b[1;34m(num)\u001b[0m\n\u001b[0;32m      2\u001b[0m \u001b[38;5;28;01mfor\u001b[39;00m i \u001b[38;5;129;01min\u001b[39;00m \u001b[38;5;28mrange\u001b[39m(\u001b[38;5;241m2\u001b[39m, num):\n\u001b[0;32m      3\u001b[0m     \u001b[38;5;28;01mif\u001b[39;00m num \u001b[38;5;241m%\u001b[39m i \u001b[38;5;241m==\u001b[39m \u001b[38;5;241m0\u001b[39m:\n\u001b[1;32m----> 4\u001b[0m         \u001b[38;5;28;01mreturn\u001b[39;00m false\n",
      "\u001b[1;31mNameError\u001b[0m: name 'false' is not defined"
     ]
    }
   ],
   "source": [
    "is_prime(4)"
   ]
  },
  {
   "cell_type": "code",
   "execution_count": null,
   "id": "407cc137",
   "metadata": {},
   "outputs": [],
   "source": []
  }
 ],
 "metadata": {
  "kernelspec": {
   "display_name": "Python 3 (ipykernel)",
   "language": "python",
   "name": "python3"
  },
  "language_info": {
   "codemirror_mode": {
    "name": "ipython",
    "version": 3
   },
   "file_extension": ".py",
   "mimetype": "text/x-python",
   "name": "python",
   "nbconvert_exporter": "python",
   "pygments_lexer": "ipython3",
   "version": "3.11.4"
  }
 },
 "nbformat": 4,
 "nbformat_minor": 5
}
