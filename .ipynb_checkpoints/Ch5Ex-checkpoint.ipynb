{
 "cells": [
  {
   "cell_type": "markdown",
   "id": "a4dcb561",
   "metadata": {},
   "source": [
    "# Chapter 5 Practice Questions\n",
    "\n",
    "Questions 1,"
   ]
  },
  {
   "cell_type": "markdown",
   "id": "9fe6de49",
   "metadata": {},
   "source": [
    "## Question 1 Algorithm Workbench\n",
    "\n",
    "I write a function named times_ten that accepts an argument and displays the product of its argument multiplied by 10."
   ]
  },
  {
   "cell_type": "code",
   "execution_count": 16,
   "id": "46b293b2",
   "metadata": {},
   "outputs": [
    {
     "name": "stdout",
     "output_type": "stream",
     "text": [
      "100\n"
     ]
    }
   ],
   "source": [
    "# I define the main function to input the value and times_ten.\n",
    "def main():\n",
    "    value = 10\n",
    "    times_ten(value)\n",
    "\n",
    "# I assign times_ten to accept an argument and display ten times its value.   \n",
    "def times_ten(number):\n",
    "    result = number * 10\n",
    "    print(result)\n",
    "# I call the main function to times_ten by the value and display the result.\n",
    "main()"
   ]
  },
  {
   "cell_type": "code",
   "execution_count": 25,
   "id": "ff931f9c",
   "metadata": {},
   "outputs": [
    {
     "name": "stdout",
     "output_type": "stream",
     "text": [
      "50\n",
      "80\n",
      "402.2\n"
     ]
    }
   ],
   "source": [
    "# writing test statements to check different values.\n",
    "times_ten(5)\n",
    "times_ten(8)\n",
    "times_ten(40.22)"
   ]
  },
  {
   "cell_type": "markdown",
   "id": "395550aa",
   "metadata": {},
   "source": [
    "## Question 2 Algorithm Workbench\n",
    "\n",
    "I examine the function header and then write a statement that calls the function passing 12 as an argument."
   ]
  },
  {
   "cell_type": "code",
   "execution_count": 62,
   "id": "92c8fd32",
   "metadata": {},
   "outputs": [
    {
     "name": "stdout",
     "output_type": "stream",
     "text": [
      "12\n"
     ]
    }
   ],
   "source": [
    "# I define the main function and input the value and show_value\n",
    "def main():\n",
    "    value = 12\n",
    "    show_value(value)\n",
    "# I write the function header from the question and assign a print function for the value.\n",
    "def show_value(quantity):\n",
    "    print(quantity) \n",
    "# I call the main function to display the value.    \n",
    "main()    "
   ]
  },
  {
   "cell_type": "markdown",
   "id": "6cbb5c66",
   "metadata": {},
   "source": [
    "## Question 1 Programming Exercises\n",
    "\n",
    "I write a program that asks the user to enter a distance in kilometers, then it converts the distance to miles."
   ]
  },
  {
   "cell_type": "code",
   "execution_count": 64,
   "id": "66212246",
   "metadata": {},
   "outputs": [
    {
     "name": "stdout",
     "output_type": "stream",
     "text": [
      "Enter the distance in kilometers: 5\n",
      "5.0 Kilometers converts to 3.1069999999999998 miles.\n"
     ]
    }
   ],
   "source": [
    "# I define the main function and write a float input function to ask the user to input the distance in kilometers.\n",
    "def main():\n",
    "    kilometers = float(input('Enter the distance in kilometers: '))\n",
    "    conversion(kilometers)\n",
    "# I add the conversion for kilometers to miles and use a print function to display the conversion for the user.\n",
    "def conversion(kilometers):\n",
    "    miles = kilometers * 0.6214\n",
    "    print(kilometers, 'Kilometers converts to', miles, 'miles.')\n",
    "# call the main function to display the result.\n",
    "main()    "
   ]
  },
  {
   "cell_type": "code",
   "execution_count": null,
   "id": "d499b22e",
   "metadata": {},
   "outputs": [],
   "source": []
  }
 ],
 "metadata": {
  "kernelspec": {
   "display_name": "Python 3 (ipykernel)",
   "language": "python",
   "name": "python3"
  },
  "language_info": {
   "codemirror_mode": {
    "name": "ipython",
    "version": 3
   },
   "file_extension": ".py",
   "mimetype": "text/x-python",
   "name": "python",
   "nbconvert_exporter": "python",
   "pygments_lexer": "ipython3",
   "version": "3.11.4"
  }
 },
 "nbformat": 4,
 "nbformat_minor": 5
}
