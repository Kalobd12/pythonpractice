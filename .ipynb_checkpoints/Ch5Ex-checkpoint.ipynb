{
 "cells": [
  {
   "cell_type": "markdown",
   "id": "a4dcb561",
   "metadata": {},
   "source": [
    "# Chapter 5 Practice Questions\n",
    "\n",
    "Questions 1,"
   ]
  },
  {
   "cell_type": "markdown",
   "id": "9fe6de49",
   "metadata": {},
   "source": [
    "## Question 1 Algorithm Workbench\n",
    "\n",
    "I write a function named times_ten that accepts an argument and displays the product of its argument multiplied by 10."
   ]
  },
  {
   "cell_type": "code",
   "execution_count": 1,
   "id": "46b293b2",
   "metadata": {},
   "outputs": [
    {
     "name": "stdout",
     "output_type": "stream",
     "text": [
      "100\n"
     ]
    }
   ],
   "source": [
    "# I define the main function to input the value and times_ten.\n",
    "def main():\n",
    "    value = 10\n",
    "    times_ten(value)\n",
    "\n",
    "# I assign times_ten to accept an argument and display ten times its value.   \n",
    "def times_ten(number):\n",
    "    result = number * 10\n",
    "    print(result)\n",
    "# I call the main function to times_ten by the value and display the result.\n",
    "main()"
   ]
  },
  {
   "cell_type": "code",
   "execution_count": 2,
   "id": "da589645",
   "metadata": {},
   "outputs": [
    {
     "name": "stdout",
     "output_type": "stream",
     "text": [
      "50\n",
      "80\n",
      "402.2\n"
     ]
    }
   ],
   "source": [
    "# writing test statements to check different values.\n",
    "times_ten(5)\n",
    "times_ten(8)\n",
    "times_ten(40.22)"
   ]
  },
  {
   "cell_type": "markdown",
   "id": "c3ff2d74",
   "metadata": {},
   "source": [
    "## Question 2 Algorithm Workbench\n",
    "\n",
    "I examine the function header and then write a statement that calls the function passing 12 as an argument."
   ]
  },
  {
   "cell_type": "code",
   "execution_count": 3,
   "id": "61d7d521",
   "metadata": {},
   "outputs": [
    {
     "name": "stdout",
     "output_type": "stream",
     "text": [
      "12\n"
     ]
    }
   ],
   "source": [
    "# I define the main function and input the value and show_value\n",
    "def main():\n",
    "    value = 12\n",
    "    show_value(value)\n",
    "# I write the function header from the question and assign a print function for the value.\n",
    "def show_value(quantity):\n",
    "    print(quantity) \n",
    "# I call the main function to display the value.    \n",
    "main()    "
   ]
  },
  {
   "cell_type": "markdown",
   "id": "4687841e",
   "metadata": {},
   "source": [
    "## Question 1 Programming Exercises\n",
    "\n",
    "I write a program that asks the user to enter a distance in kilometers, then it converts the distance to miles."
   ]
  },
  {
   "cell_type": "code",
   "execution_count": 4,
   "id": "3f4758a5",
   "metadata": {},
   "outputs": [
    {
     "name": "stdout",
     "output_type": "stream",
     "text": [
      "Enter the distance in kilometers: 5\n",
      "5.0 Kilometers converts to 3.11, miles.\n"
     ]
    }
   ],
   "source": [
    "# I define the main function and write a float input function to ask the user to input the distance in kilometers.\n",
    "def main():\n",
    "    kilometers = float(input('Enter the distance in kilometers: '))\n",
    "    conversion(kilometers)\n",
    "# I add the conversion for kilometers to miles and use a print function to display the conversion for the user.\n",
    "def conversion(kilometers):\n",
    "    miles = kilometers * 0.6214\n",
    "# I add an f-string to lower the decimals to 2.\n",
    "    print(f'{kilometers} Kilometers converts to {miles:.2f}, miles.')\n",
    "# Call the main function to display the result.\n",
    "main()    "
   ]
  },
  {
   "cell_type": "markdown",
   "id": "234736bd",
   "metadata": {},
   "source": [
    "## Question 17 Prime Numbers\n",
    "\n",
    "I write a boolean function named is_prime which takes an interger as an argument and returns true if prime otherwise false. Using the function in the program to prompt the user to enter a number then display if it is prime or not."
   ]
  },
  {
   "cell_type": "code",
   "execution_count": 13,
   "id": "a3a1cb77",
   "metadata": {},
   "outputs": [
    {
     "name": "stdout",
     "output_type": "stream",
     "text": [
      "Please enter an integer to test for a prime: 5\n",
      "5 is a prime number.\n"
     ]
    }
   ],
   "source": [
    "# Importing math to use math functions.\n",
    "import math\n",
    "# Defining main function to ask user to input an integer to test if a prime number.\n",
    "def main():\n",
    "    num = int(input('Please enter an integer to test for a prime: '))\n",
    "# Added if-else statement to display a print function based on if the number is prime or not.    \n",
    "    if is_prime(num):\n",
    "        print(num, 'is a prime number.')\n",
    "    else:\n",
    "        print(num, 'is not a prime number.')\n",
    "# Use a for loop to calculate if the number is prime with an if statement to return True or False based on if prime or not.\n",
    "def is_prime(num):\n",
    "    # math.floor rounds down number and returns largest integer\n",
    "    # math.sqrt returns the square root of the number in this case the number the user inputs.\n",
    "    for i in range(2, math.floor(math.sqrt(num)) + 1):\n",
    "        if num % i == 0:\n",
    "            return False\n",
    "    return True\n",
    "# Calling main function to get user input and display result.\n",
    "main()"
   ]
  },
  {
   "cell_type": "markdown",
   "id": "ac8687ce",
   "metadata": {},
   "source": [
    "## Question 18 Prime Number List\n",
    "\n",
    "I Write another program to display all prime numbers between 1-100. With a loop that calls the is_prime function."
   ]
  },
  {
   "cell_type": "code",
   "execution_count": 23,
   "id": "eb98ed07",
   "metadata": {},
   "outputs": [
    {
     "name": "stdout",
     "output_type": "stream",
     "text": [
      "1\n",
      "2\n",
      "3\n",
      "5\n",
      "7\n",
      "11\n",
      "13\n",
      "17\n",
      "19\n",
      "23\n",
      "29\n",
      "31\n",
      "37\n",
      "41\n",
      "43\n",
      "47\n",
      "53\n",
      "59\n",
      "61\n",
      "67\n",
      "71\n",
      "73\n",
      "79\n",
      "83\n",
      "89\n",
      "97\n"
     ]
    }
   ],
   "source": [
    "# Define main function to use a for loop with range between 1-101.\n",
    "# Added an if statement and print function so that every number between 1-101 that is prime will print out in a list below.\n",
    "def main():\n",
    "    for number in range(1,101):\n",
    "        if is_prime(number):\n",
    "            print(number)\n",
    "# Calling main function to display the list of prime numbers.            \n",
    "main()"
   ]
  },
  {
   "cell_type": "markdown",
   "id": "435010c1",
   "metadata": {},
   "source": [
    "## Question 6 Calories from Fat and Carbohydrates\n",
    "\n",
    "I write a program that turns how many grams of far and carbs the user consumes into the number of calories that is."
   ]
  },
  {
   "cell_type": "code",
   "execution_count": null,
   "id": "a81a3be0",
   "metadata": {},
   "outputs": [],
   "source": [
    "# I define the main function to use input functions to get the amount of grams for fat and carbs from the user.\n",
    "def main():\n",
    "    # Input function for getting grams of fat consumed.\n",
    "    fat = input('Enter the amount of grams of fat consumed: ')\n",
    "    calories_fat(fat)\n",
    "    # Input function for getting grams of carbs consumed.\n",
    "    carbs = input('Enter the amount of grams of carbs consumed: ')\n",
    "    calories_carbs(carbs)"
   ]
  }
 ],
 "metadata": {
  "kernelspec": {
   "display_name": "Python 3 (ipykernel)",
   "language": "python",
   "name": "python3"
  },
  "language_info": {
   "codemirror_mode": {
    "name": "ipython",
    "version": 3
   },
   "file_extension": ".py",
   "mimetype": "text/x-python",
   "name": "python",
   "nbconvert_exporter": "python",
   "pygments_lexer": "ipython3",
   "version": "3.11.4"
  }
 },
 "nbformat": 4,
 "nbformat_minor": 5
}
