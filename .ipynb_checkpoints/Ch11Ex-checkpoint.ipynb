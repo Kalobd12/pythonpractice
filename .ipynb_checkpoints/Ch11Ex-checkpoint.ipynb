{
 "cells": [
  {
   "cell_type": "markdown",
   "id": "5bf98e96",
   "metadata": {},
   "source": [
    "# Chapter 11 Practice Questions\n",
    "\n",
    "Questions 1, 2\n"
   ]
  },
  {
   "cell_type": "markdown",
   "id": "80aa086b",
   "metadata": {},
   "source": [
    "## Question 1 Employee and ProductionWorker Classes"
   ]
  },
  {
   "cell_type": "code",
   "execution_count": 4,
   "id": "4a23bca9",
   "metadata": {},
   "outputs": [
    {
     "name": "stdout",
     "output_type": "stream",
     "text": [
      "Enter employee name:Kalob\n",
      "Enter employee number55555\n",
      "Enter shift number 1 or 2 for day or night shift:1\n",
      "Enter pay rate:30\n",
      "Name: Kalob\n",
      "Employee number: 55555\n",
      "Shift: 1\n",
      "Pay rate: 30.0\n"
     ]
    }
   ],
   "source": [
    "import productionworker\n",
    "\n",
    "def main():\n",
    "    #\n",
    "    name = input('Enter employee name:')\n",
    "    #\n",
    "    number = input('Enter employee number')\n",
    "    #\n",
    "    shift_number = int(input('Enter shift number 1 or 2 for day or night shift:'))\n",
    "    #\n",
    "    pay_rate = float(input('Enter pay rate:'))\n",
    "    #\n",
    "    productionworker1 = productionworker.ProductionWorker(name, number, shift_number, pay_rate)\n",
    "    \n",
    "    print('Name:', productionworker1.get_name())\n",
    "    print('Employee number:', productionworker1.get_number())\n",
    "    print('Shift:', productionworker1.get_shift_number())\n",
    "    print('Pay rate:', productionworker1.get_pay_rate())\n",
    "\n",
    "main()    "
   ]
  },
  {
   "cell_type": "markdown",
   "id": "723a2ea9",
   "metadata": {},
   "source": [
    "## Question 2 ShiftSupervisor Class"
   ]
  },
  {
   "cell_type": "code",
   "execution_count": 9,
   "id": "22914f9f",
   "metadata": {},
   "outputs": [
    {
     "ename": "AttributeError",
     "evalue": "module 'shiftsupervisor' has no attribute 'ShiftSupervisor'",
     "output_type": "error",
     "traceback": [
      "\u001b[1;31m---------------------------------------------------------------------------\u001b[0m",
      "\u001b[1;31mAttributeError\u001b[0m                            Traceback (most recent call last)",
      "Cell \u001b[1;32mIn[9], line 7\u001b[0m\n\u001b[0;32m      3\u001b[0m \u001b[38;5;28;01mdef\u001b[39;00m \u001b[38;5;21mmain\u001b[39m():\n\u001b[0;32m      4\u001b[0m     \u001b[38;5;66;03m#\u001b[39;00m\n\u001b[0;32m      5\u001b[0m     supervisor1 \u001b[38;5;241m=\u001b[39m shiftsupervisor\u001b[38;5;241m.\u001b[39mShiftSupervisor(\u001b[38;5;124m'\u001b[39m\u001b[38;5;124mKalob\u001b[39m\u001b[38;5;124m'\u001b[39m, \u001b[38;5;124m'\u001b[39m\u001b[38;5;124m5555\u001b[39m\u001b[38;5;124m'\u001b[39m, \u001b[38;5;241m80000\u001b[39m, \u001b[38;5;241m2500\u001b[39m)\n\u001b[1;32m----> 7\u001b[0m main()\n",
      "Cell \u001b[1;32mIn[9], line 5\u001b[0m, in \u001b[0;36mmain\u001b[1;34m()\u001b[0m\n\u001b[0;32m      3\u001b[0m \u001b[38;5;28;01mdef\u001b[39;00m \u001b[38;5;21mmain\u001b[39m():\n\u001b[0;32m      4\u001b[0m     \u001b[38;5;66;03m#\u001b[39;00m\n\u001b[1;32m----> 5\u001b[0m     supervisor1 \u001b[38;5;241m=\u001b[39m shiftsupervisor\u001b[38;5;241m.\u001b[39mShiftSupervisor(\u001b[38;5;124m'\u001b[39m\u001b[38;5;124mKalob\u001b[39m\u001b[38;5;124m'\u001b[39m, \u001b[38;5;124m'\u001b[39m\u001b[38;5;124m5555\u001b[39m\u001b[38;5;124m'\u001b[39m, \u001b[38;5;241m80000\u001b[39m, \u001b[38;5;241m2500\u001b[39m)\n",
      "\u001b[1;31mAttributeError\u001b[0m: module 'shiftsupervisor' has no attribute 'ShiftSupervisor'"
     ]
    }
   ],
   "source": [
    "import shiftsupervisor\n",
    "\n",
    "def main():\n",
    "    #\n",
    "    supervisor1 = shiftsupervisor.ShiftSupervisor('Kalob', '5555', 80000, 2500)\n",
    "    \n",
    "main()"
   ]
  },
  {
   "cell_type": "code",
   "execution_count": null,
   "id": "4c600790",
   "metadata": {},
   "outputs": [],
   "source": []
  }
 ],
 "metadata": {
  "kernelspec": {
   "display_name": "Python 3 (ipykernel)",
   "language": "python",
   "name": "python3"
  },
  "language_info": {
   "codemirror_mode": {
    "name": "ipython",
    "version": 3
   },
   "file_extension": ".py",
   "mimetype": "text/x-python",
   "name": "python",
   "nbconvert_exporter": "python",
   "pygments_lexer": "ipython3",
   "version": "3.11.4"
  }
 },
 "nbformat": 4,
 "nbformat_minor": 5
}
