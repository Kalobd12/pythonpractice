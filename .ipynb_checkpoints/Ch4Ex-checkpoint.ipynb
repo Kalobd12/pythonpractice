{
 "cells": [
  {
   "cell_type": "markdown",
   "id": "36e6946d",
   "metadata": {},
   "source": [
    "# Chapter 4 Practice Questions\n",
    "\n",
    "Problems 6,"
   ]
  },
  {
   "cell_type": "markdown",
   "id": "81beb3cf",
   "metadata": {},
   "source": [
    "## Question 6 Algorithm Workbench\n",
    "\n",
    "In this question it asks you to rewrite the following statements using augmented assignment operators."
   ]
  },
  {
   "cell_type": "markdown",
   "id": "fc42515b",
   "metadata": {},
   "source": [
    "Below is the statements that we need to rewrite.\n",
    "\n",
    "X = X + 1\n",
    "X = X * 2\n",
    "X = X / 10\n",
    "X = X - 100\n",
    "\n",
    "These are the augmented assignment operators we need to use +=, *=, /=, -=.\n",
    "You then plug in the correct operator based on which one the statement is using.\n",
    "\n",
    "X += 1\n",
    "X *= 2\n",
    "X /= 1-\n",
    "X -= 100\n",
    "\n",
    "The reason we use these operators is to condense the statement so the programmer doesn't have to type the variable name twice."
   ]
  },
  {
   "cell_type": "code",
   "execution_count": null,
   "id": "b5cfb7b1",
   "metadata": {},
   "outputs": [],
   "source": []
  }
 ],
 "metadata": {
  "kernelspec": {
   "display_name": "Python 3 (ipykernel)",
   "language": "python",
   "name": "python3"
  },
  "language_info": {
   "codemirror_mode": {
    "name": "ipython",
    "version": 3
   },
   "file_extension": ".py",
   "mimetype": "text/x-python",
   "name": "python",
   "nbconvert_exporter": "python",
   "pygments_lexer": "ipython3",
   "version": "3.11.4"
  }
 },
 "nbformat": 4,
 "nbformat_minor": 5
}
