{
 "cells": [
  {
   "cell_type": "markdown",
   "id": "cbb77616",
   "metadata": {},
   "source": [
    "# Chapter 4 Practice Questions\n",
    "\n",
    "Problems 6,"
   ]
  },
  {
   "cell_type": "markdown",
   "id": "300ffc85",
   "metadata": {},
   "source": [
    "## Question 6 Algorithm Workbench\n",
    "\n",
    "In this question it asks you to rewrite the following statements using augmented assignment operators."
   ]
  },
  {
   "cell_type": "markdown",
   "id": "c82d92ef",
   "metadata": {},
   "source": [
    "Below is the statements that we need to rewrite.\n",
    "\n",
    "X = X + 1\n",
    "X = X * 2\n",
    "X = X / 10\n",
    "X = X - 100\n",
    "\n",
    "These are the augmented assignment operators we need to use +=, *=, /=, -=.\n",
    "You then plug in the correct operator based on which one the statement is using.\n",
    "\n",
    "X += 1\n",
    "X *= 2\n",
    "X /= 1-\n",
    "X -= 100\n",
    "\n",
    "The reason we use these operators is to condense the statement so the programmer doesn't have to type the variable name twice."
   ]
  },
  {
   "cell_type": "markdown",
   "id": "5f69c931",
   "metadata": {},
   "source": [
    "## Question 3 Algorithm Workbench\n",
    "\n",
    "For this question it asks you to write a loop that displays the following set of numbers.                        \n",
    "0, 10, 20, 30, 40, 50 . . . 1000"
   ]
  },
  {
   "cell_type": "code",
   "execution_count": null,
   "id": "1fe8d674",
   "metadata": {},
   "outputs": [],
   "source": []
  }
 ],
 "metadata": {
  "kernelspec": {
   "display_name": "Python 3 (ipykernel)",
   "language": "python",
   "name": "python3"
  },
  "language_info": {
   "codemirror_mode": {
    "name": "ipython",
    "version": 3
   },
   "file_extension": ".py",
   "mimetype": "text/x-python",
   "name": "python",
   "nbconvert_exporter": "python",
   "pygments_lexer": "ipython3",
   "version": "3.11.4"
  }
 },
 "nbformat": 4,
 "nbformat_minor": 5
}
