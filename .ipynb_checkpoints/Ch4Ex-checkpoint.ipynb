{
 "cells": [
  {
   "cell_type": "markdown",
   "id": "25c8865b",
   "metadata": {},
   "source": [
    "# Chapter 4 Practice Questions\n",
    "\n",
    "Problems 6,"
   ]
  },
  {
   "cell_type": "markdown",
   "id": "53a469b9",
   "metadata": {},
   "source": [
    "## Question 6 Algorithm Workbench\n",
    "\n",
    "In this question it asks you to rewrite the following statements using augmented assignment operators."
   ]
  },
  {
   "cell_type": "markdown",
   "id": "3ab71e05",
   "metadata": {},
   "source": [
    "Below is the statements that we need to rewrite.\n",
    "\n",
    "X = X + 1\n",
    "X = X * 2\n",
    "X = X / 10\n",
    "X = X - 100\n",
    "\n",
    "These are the augmented assignment operators we need to use +=, *=, /=, -=.\n",
    "You then plug in the correct operator based on which one the statement is using.\n",
    "\n",
    "X += 1\n",
    "X *= 2\n",
    "X /= 1-\n",
    "X -= 100\n",
    "\n",
    "The reason we use these operators is to condense the statement so the programmer doesn't have to type the variable name twice."
   ]
  },
  {
   "cell_type": "markdown",
   "id": "07ceb001",
   "metadata": {},
   "source": [
    "## Question 3 Algorithm Workbench\n",
    "\n",
    "For this question it asks you to write a loop that displays the following set of numbers.                        \n",
    "0, 10, 20, 30, 40, 50 . . . 1000"
   ]
  },
  {
   "cell_type": "code",
   "execution_count": 23,
   "id": "b5c146a0",
   "metadata": {},
   "outputs": [
    {
     "name": "stdout",
     "output_type": "stream",
     "text": [
      "10\n",
      "20\n",
      "30\n",
      "40\n",
      "50\n",
      "60\n",
      "70\n",
      "80\n",
      "90\n",
      "100\n",
      "110\n",
      "120\n",
      "130\n",
      "140\n",
      "150\n",
      "160\n",
      "170\n",
      "180\n",
      "190\n",
      "200\n",
      "210\n",
      "220\n",
      "230\n",
      "240\n",
      "250\n",
      "260\n",
      "270\n",
      "280\n",
      "290\n",
      "300\n",
      "310\n",
      "320\n",
      "330\n",
      "340\n",
      "350\n",
      "360\n",
      "370\n",
      "380\n",
      "390\n",
      "400\n",
      "410\n",
      "420\n",
      "430\n",
      "440\n",
      "450\n",
      "460\n",
      "470\n",
      "480\n",
      "490\n",
      "500\n",
      "510\n",
      "520\n",
      "530\n",
      "540\n",
      "550\n",
      "560\n",
      "570\n",
      "580\n",
      "590\n",
      "600\n",
      "610\n",
      "620\n",
      "630\n",
      "640\n",
      "650\n",
      "660\n",
      "670\n",
      "680\n",
      "690\n",
      "700\n",
      "710\n",
      "720\n",
      "730\n",
      "740\n",
      "750\n",
      "760\n",
      "770\n",
      "780\n",
      "790\n",
      "800\n",
      "810\n",
      "820\n",
      "830\n",
      "840\n",
      "850\n",
      "860\n",
      "870\n",
      "880\n",
      "890\n",
      "900\n",
      "910\n",
      "920\n",
      "930\n",
      "940\n",
      "950\n",
      "960\n",
      "970\n",
      "980\n",
      "990\n",
      "1000\n",
      "1010\n"
     ]
    }
   ],
   "source": [
    "X = 0\n",
    "while X <= 1000:\n",
    "    X += 10\n",
    "    print(X)\n",
    "    "
   ]
  },
  {
   "cell_type": "code",
   "execution_count": null,
   "id": "ebad2cc1",
   "metadata": {},
   "outputs": [],
   "source": []
  }
 ],
 "metadata": {
  "kernelspec": {
   "display_name": "Python 3 (ipykernel)",
   "language": "python",
   "name": "python3"
  },
  "language_info": {
   "codemirror_mode": {
    "name": "ipython",
    "version": 3
   },
   "file_extension": ".py",
   "mimetype": "text/x-python",
   "name": "python",
   "nbconvert_exporter": "python",
   "pygments_lexer": "ipython3",
   "version": "3.11.4"
  }
 },
 "nbformat": 4,
 "nbformat_minor": 5
}
