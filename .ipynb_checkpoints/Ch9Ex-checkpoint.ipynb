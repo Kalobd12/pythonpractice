{
 "cells": [
  {
   "cell_type": "markdown",
   "id": "396b3930",
   "metadata": {},
   "source": [
    "# Chapter 9 Practice Questions\n",
    "\n",
    "Question 1"
   ]
  },
  {
   "cell_type": "code",
   "execution_count": 11,
   "id": "0e3847d4",
   "metadata": {},
   "outputs": [
    {
     "name": "stdout",
     "output_type": "stream",
     "text": [
      "Enter a course numberCM101\n",
      "Incorrect course number\n"
     ]
    }
   ],
   "source": [
    "# Importing the module containing the dictionaries we need to pull from.\n",
    "import courseinfo\n",
    "# Defining the main function.\n",
    "def main():\n",
    "    # Having the user input a course number and to display info about the course below.\n",
    "    course = input('Enter a course number')\n",
    "    # if statement to pull from courseinfo.py if the course number matches with the dict.\n",
    "    if course in courseinfo.room:\n",
    "        # Print functions to display the values from courseinfo.py asked for if the user inputs a valid course number.\n",
    "        print('Room number:', courseinfo.room.get(course))\n",
    "        print('Instructor:', courseinfo.instructor.get(course))\n",
    "        print('Meeting time:', courseinfo.time.get(course))\n",
    "    # Using an else statement to filter the incorrect inputs.    \n",
    "    else:\n",
    "        # Print function to tell the user that they inputted an incorrect course number.\n",
    "        print('Incorrect course number')\n",
    "# Calling the main function.        \n",
    "main()"
   ]
  },
  {
   "cell_type": "code",
   "execution_count": null,
   "id": "89d1de62",
   "metadata": {},
   "outputs": [],
   "source": []
  }
 ],
 "metadata": {
  "kernelspec": {
   "display_name": "Python 3 (ipykernel)",
   "language": "python",
   "name": "python3"
  },
  "language_info": {
   "codemirror_mode": {
    "name": "ipython",
    "version": 3
   },
   "file_extension": ".py",
   "mimetype": "text/x-python",
   "name": "python",
   "nbconvert_exporter": "python",
   "pygments_lexer": "ipython3",
   "version": "3.11.4"
  }
 },
 "nbformat": 4,
 "nbformat_minor": 5
}
