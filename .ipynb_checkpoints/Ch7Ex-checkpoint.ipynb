{
 "cells": [
  {
   "cell_type": "markdown",
   "id": "5a442bed",
   "metadata": {},
   "source": [
    "# Chapter 7 Practice Questions\n",
    "\n",
    "questions 1, 2,"
   ]
  },
  {
   "cell_type": "markdown",
   "id": "9975fb88",
   "metadata": {},
   "source": [
    "## Question 1 Algorithm Workbench\n",
    "\n",
    "I write a statement that creates a list with the following strings listed below."
   ]
  },
  {
   "cell_type": "code",
   "execution_count": 5,
   "id": "38b35603",
   "metadata": {},
   "outputs": [
    {
     "name": "stdout",
     "output_type": "stream",
     "text": [
      "['Einstein', 'Newton', 'Copernicus', 'Kepler']\n"
     ]
    }
   ],
   "source": [
    "# I assign the variable to the list of four different names.\n",
    "names = ['Einstein', 'Newton', 'Copernicus', 'Kepler']\n",
    "# Using the print function to display the four names below.\n",
    "print(names)"
   ]
  },
  {
   "cell_type": "markdown",
   "id": "e448c940",
   "metadata": {},
   "source": [
    "## Question 2 Algorithm Workbench\n",
    "\n",
    "I write a for loop that displays each element of the list."
   ]
  },
  {
   "cell_type": "code",
   "execution_count": 6,
   "id": "999022a4",
   "metadata": {},
   "outputs": [
    {
     "name": "stdout",
     "output_type": "stream",
     "text": [
      "Einstein\n",
      "Newton\n",
      "Copernicus\n",
      "Kepler\n"
     ]
    }
   ],
   "source": [
    "# Copied over from the question above.\n",
    "names = ['Einstein', 'Newton', 'Copernicus', 'Kepler']\n",
    "# Adding a for loop for the list of names.\n",
    "for name in names:\n",
    "    # Using the print function to display the list.\n",
    "    print(name)\n",
    "    "
   ]
  },
  {
   "cell_type": "markdown",
   "id": "7fad4537",
   "metadata": {},
   "source": [
    "## Question 1 Total Sales\n",
    "\n",
    "I design a program that asks the user to enter a store's sales each day of the week. The amounts are stored on a list and I use a loop to calculate the total sales for the week and display the result."
   ]
  },
  {
   "cell_type": "code",
   "execution_count": 5,
   "id": "4849f61f",
   "metadata": {},
   "outputs": [
    {
     "name": "stdout",
     "output_type": "stream",
     "text": [
      "Enter the sales for each day\n",
      "Day #1: 50\n",
      "Day #2: 25\n",
      "Day #3: 50\n",
      "Day #4: 25\n",
      "Day #5: 50\n",
      "Day #6: 12\n",
      "Day #7: 13\n",
      "Total sales for the week: 225.0\n"
     ]
    }
   ],
   "source": [
    "def main():\n",
    "    # holds the number of days the program will gather data for.\n",
    "    num_days = 7\n",
    "    # created a variable to use as an accumulator.\n",
    "    total = 0\n",
    "    # The list to hold the sales of each day.\n",
    "    sales = [0] * num_days\n",
    "    # print function to display at the top.\n",
    "    print('Enter the sales for each day')\n",
    "    # using a for loop that gets the sales of each day using the len function to get the indexes for the list.\n",
    "    for index in range(len(sales)):\n",
    "        # this will have the user input each day of sales into the list sales.\n",
    "        sales[index] = float(input(f'Day #{index + 1}: '))\n",
    "    # using a for loop to calculate the total from the list of sales.\n",
    "    for daily_sales in sales:\n",
    "        # adds all the daily sales to the variable total\n",
    "        total += daily_sales\n",
    "    # print function to display the total sales for the week.\n",
    "    print('Total sales for the week:', total)\n",
    "    \n",
    "main()\n"
   ]
  },
  {
   "cell_type": "markdown",
   "id": "819eaef5",
   "metadata": {},
   "source": [
    "## Question 14 Expense Pie Chart\n",
    "\n",
    "I create a text file that contains my expenses for the last month. With a python program I use it to read the data and plot a pie chart using matplotlib on how I spend my money."
   ]
  },
  {
   "cell_type": "code",
   "execution_count": 3,
   "id": "457ffc5d",
   "metadata": {},
   "outputs": [
    {
     "name": "stdout",
     "output_type": "stream",
     "text": [
      "rent: 1000\n",
      "\n",
      "gas: 200\n",
      "\n",
      "food: 400\n",
      "\n",
      "clothing: 150\n",
      "\n",
      "car payment: 600\n",
      "\n",
      "misc: 300\n"
     ]
    }
   ],
   "source": [
    "# importing matplotlib for the program.\n",
    "import matplotlib.pyplot as plt\n",
    "def main():\n",
    "    # Opens expenses.txt and assigns it to the variable expenses.\n",
    "    expenses = open('expenses.txt', 'r')\n",
    "    # using a for loop to display each expense on its own line.\n",
    "    for line in expenses:\n",
    "        # uses the print function to display all the information from expenses.txt.\n",
    "        print(line)\n",
    "    expenses.close()\n",
    "main()"
   ]
  },
  {
   "cell_type": "code",
   "execution_count": 2,
   "id": "c778bb8d",
   "metadata": {},
   "outputs": [
    {
     "data": {
      "image/png": "[encoded data removed]",
      "text/plain": [
       "<Figure size 640x480 with 1 Axes>"
      ]
     },
     "metadata": {},
     "output_type": "display_data"
    }
   ],
   "source": [
    "import matplotlib.pyplot as plt\n",
    "def main():\n",
    "    # plotting the expenses on a list.\n",
    "    expenses = [1000, 200, 400, 150, 600, 300]\n",
    "    # assigning each cost to a label list.\n",
    "    slice_labels =['rent', 'gas', 'food', 'clothing', 'car payment', 'misc']\n",
    "    # plotting both lists onto the pie chart.\n",
    "    plt.pie(expenses, labels=slice_labels)\n",
    "    # adding a title for the pie chart.\n",
    "    plt.title('Monthly Expenses')\n",
    "    # showing just the pie chart.\n",
    "    plt.show()\n",
    "main()\n",
    "    "
   ]
  },
  {
   "cell_type": "markdown",
   "id": "d3e08045",
   "metadata": {},
   "source": [
    "## Question 2 Lottery Number Generator\n",
    "\n",
    "I design a program that generates a seven-digit lottery number. It generates seven random numbers with a range of 0 through 9 and assigns each number to a list element and finally with a loop prints and displays the contents."
   ]
  },
  {
   "cell_type": "code",
   "execution_count": 3,
   "id": "784e355f",
   "metadata": {},
   "outputs": [
    {
     "name": "stdout",
     "output_type": "stream",
     "text": [
      "[8]\n",
      "[1]\n",
      "[6]\n",
      "[6]\n",
      "[7]\n",
      "[0]\n",
      "[3]\n"
     ]
    }
   ],
   "source": [
    "\n",
    "import random\n",
    "def main():\n",
    "    # using a for loop with a range of 7.\n",
    "    for count in range(7):\n",
    "        # will create 7 random numbers between 0,9.\n",
    "        lottery_number = [random.randint(0, 9)]\n",
    "        # prints the 7 numbers below.\n",
    "        print(lottery_number)\n",
    "main()"
   ]
  },
  {
   "cell_type": "code",
   "execution_count": 5,
   "id": "03ec31e2",
   "metadata": {},
   "outputs": [
    {
     "name": "stdout",
     "output_type": "stream",
     "text": [
      "[8, 7, 4, 5, 1, 9, 4]\n"
     ]
    }
   ],
   "source": [
    "import random\n",
    "def main():\n",
    "    # creates a list of numbers 0-9.\n",
    "    numbers = [0, 1, 2, 3, 4, 5, 6, 7, 8, 9]\n",
    "    # the second list grabs 7 random numbers from the list above.\n",
    "    selected = random.choices(numbers, k=7)\n",
    "    # prints the list of 7 random numbers below.\n",
    "    print(selected)\n",
    "main()"
   ]
  },
  {
   "cell_type": "code",
   "execution_count": null,
   "id": "2c1b17f6",
   "metadata": {},
   "outputs": [],
   "source": []
  }
 ],
 "metadata": {
  "kernelspec": {
   "display_name": "Python 3 (ipykernel)",
   "language": "python",
   "name": "python3"
  },
  "language_info": {
   "codemirror_mode": {
    "name": "ipython",
    "version": 3
   },
   "file_extension": ".py",
   "mimetype": "text/x-python",
   "name": "python",
   "nbconvert_exporter": "python",
   "pygments_lexer": "ipython3",
   "version": "3.11.4"
  }
 },
 "nbformat": 4,
 "nbformat_minor": 5
}
