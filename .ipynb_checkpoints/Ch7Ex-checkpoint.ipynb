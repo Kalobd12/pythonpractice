{
 "cells": [
  {
   "cell_type": "markdown",
   "id": "5a442bed",
   "metadata": {},
   "source": [
    "# Chapter 7 Practice Questions\n",
    "\n",
    "questions 1, 2,"
   ]
  },
  {
   "cell_type": "markdown",
   "id": "8681e85e",
   "metadata": {},
   "source": [
    "## Question 1 Algorithm Workbench\n",
    "\n",
    "I write a statement that creates a list with the following strings listed below."
   ]
  },
  {
   "cell_type": "code",
   "execution_count": 5,
   "id": "38b35603",
   "metadata": {},
   "outputs": [
    {
     "name": "stdout",
     "output_type": "stream",
     "text": [
      "['Einstein', 'Newton', 'Copernicus', 'Kepler']\n"
     ]
    }
   ],
   "source": [
    "# I assign the variable to the list of four different names.\n",
    "names = ['Einstein', 'Newton', 'Copernicus', 'Kepler']\n",
    "# Using the print function to display the four names below.\n",
    "print(names)"
   ]
  },
  {
   "cell_type": "markdown",
   "id": "79377efa",
   "metadata": {},
   "source": [
    "## Question 2 Algorithm Workbench\n",
    "\n",
    "I write a for loop that displays each element of the list."
   ]
  },
  {
   "cell_type": "code",
   "execution_count": 6,
   "id": "5def8ff6",
   "metadata": {},
   "outputs": [
    {
     "name": "stdout",
     "output_type": "stream",
     "text": [
      "Einstein\n",
      "Newton\n",
      "Copernicus\n",
      "Kepler\n"
     ]
    }
   ],
   "source": [
    "# Copied over from the question above.\n",
    "names = ['Einstein', 'Newton', 'Copernicus', 'Kepler']\n",
    "# Adding a for loop for the list of names.\n",
    "for name in names:\n",
    "    # Using the print function to display the list.\n",
    "    print(name)\n",
    "    "
   ]
  },
  {
   "cell_type": "code",
   "execution_count": null,
   "id": "ef6d1ee5",
   "metadata": {},
   "outputs": [],
   "source": []
  }
 ],
 "metadata": {
  "kernelspec": {
   "display_name": "Python 3 (ipykernel)",
   "language": "python",
   "name": "python3"
  },
  "language_info": {
   "codemirror_mode": {
    "name": "ipython",
    "version": 3
   },
   "file_extension": ".py",
   "mimetype": "text/x-python",
   "name": "python",
   "nbconvert_exporter": "python",
   "pygments_lexer": "ipython3",
   "version": "3.11.4"
  }
 },
 "nbformat": 4,
 "nbformat_minor": 5
}
