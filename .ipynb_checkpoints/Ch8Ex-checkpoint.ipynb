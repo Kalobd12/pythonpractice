{
 "cells": [
  {
   "cell_type": "markdown",
   "id": "a6318a98",
   "metadata": {},
   "source": [
    "# Chapter 8 Practice Questions\n",
    "\n",
    "Questions 2,"
   ]
  },
  {
   "cell_type": "markdown",
   "id": "abf732f2",
   "metadata": {},
   "source": [
    "## Question 2 Algorithm Workbench\n",
    "\n",
    "I write a loop that counts the number of space characters that appear in the string referenced by mystring."
   ]
  },
  {
   "cell_type": "code",
   "execution_count": 2,
   "id": "c35ba86f",
   "metadata": {},
   "outputs": [
    {
     "name": "stdout",
     "output_type": "stream",
     "text": [
      "The number of spaces in the string is: 2\n"
     ]
    }
   ],
   "source": [
    "def main():\n",
    "    # Created variable to hold the count.\n",
    "    count = 0\n",
    "    # Created variable for my string.\n",
    "    mystring = 'testing this string'\n",
    "    # Using for loop to count the number of space characters.\n",
    "    for ch in mystring:\n",
    "        # if statement checks for spaces.\n",
    "        if ch == ' ':\n",
    "            # if there is a space count 1.\n",
    "            count += 1\n",
    "    # Print function to display the number of space characters.\n",
    "    print(f'The number of spaces in the string is: {count}')\n",
    "# Calling main function.\n",
    "main()\n",
    "            "
   ]
  },
  {
   "cell_type": "markdown",
   "id": "53d66beb",
   "metadata": {},
   "source": [
    "## Question 4 Algorithm Workbench\n",
    "\n",
    "I write a loop that counts the number of lowercase characters that appear in the string referenced by mystring."
   ]
  },
  {
   "cell_type": "code",
   "execution_count": 3,
   "id": "26fa7b0a",
   "metadata": {},
   "outputs": [
    {
     "name": "stdout",
     "output_type": "stream",
     "text": [
      "The number of lowercase characters in the string is: 14\n"
     ]
    }
   ],
   "source": [
    "def main():\n",
    "    # Created variable to hold the count.\n",
    "    count = 0\n",
    "    # Created variable for my string.\n",
    "    mystring = 'Testing This String'\n",
    "    # Using for loop to count the number of space characters.\n",
    "    for ch in mystring:\n",
    "        # if statement to check for lowercase.\n",
    "        if ch.islower():\n",
    "            # if there is lowercase count 1.\n",
    "            count += 1\n",
    "    # Print function to display the number of lowercase characters.\n",
    "    print(f'The number of lowercase characters in the string is: {count}')\n",
    "# Calling main function.\n",
    "main()\n",
    "    "
   ]
  },
  {
   "cell_type": "markdown",
   "id": "a14de135",
   "metadata": {},
   "source": [
    "## Question 1 Initials\n",
    "\n",
    "I write a program that contains a string of someones first middle and last name and displays their initials."
   ]
  },
  {
   "cell_type": "code",
   "execution_count": 6,
   "id": "f2de427a",
   "metadata": {},
   "outputs": [
    {
     "name": "stdout",
     "output_type": "stream",
     "text": [
      "J W S\n"
     ]
    }
   ],
   "source": [
    "def main():\n",
    "    # Created variable for my string.\n",
    "    mystring = 'John William Smith'\n",
    "    # Print function to display Initials.\n",
    "    print(mystring[0], mystring[5], mystring[13])\n",
    "    # Calling main.\n",
    "main()\n",
    "    "
   ]
  },
  {
   "cell_type": "code",
   "execution_count": null,
   "id": "f0fc2b4c",
   "metadata": {},
   "outputs": [],
   "source": []
  }
 ],
 "metadata": {
  "kernelspec": {
   "display_name": "Python 3 (ipykernel)",
   "language": "python",
   "name": "python3"
  },
  "language_info": {
   "codemirror_mode": {
    "name": "ipython",
    "version": 3
   },
   "file_extension": ".py",
   "mimetype": "text/x-python",
   "name": "python",
   "nbconvert_exporter": "python",
   "pygments_lexer": "ipython3",
   "version": "3.11.4"
  }
 },
 "nbformat": 4,
 "nbformat_minor": 5
}
