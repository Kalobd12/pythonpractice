{
 "cells": [
  {
   "cell_type": "markdown",
   "id": "cb9fe887",
   "metadata": {},
   "source": [
    "# Chapter 8 Practice Questions\n",
    "\n",
    "Questions 2,"
   ]
  },
  {
   "cell_type": "markdown",
   "id": "04d4a8e4",
   "metadata": {},
   "source": [
    "## Question 2 Algorithm Workbench\n",
    "\n",
    "I write a loop that counts the number of space characters that appear in the string referenced by mystring."
   ]
  },
  {
   "cell_type": "code",
   "execution_count": 2,
   "id": "d56db67b",
   "metadata": {},
   "outputs": [
    {
     "name": "stdout",
     "output_type": "stream",
     "text": [
      "The number of spaces in the string is: 2\n"
     ]
    }
   ],
   "source": [
    "def main():\n",
    "    # Created variable to hold the count.\n",
    "    count = 0\n",
    "    # Created variable for my string.\n",
    "    mystring = 'testing this string'\n",
    "    # Using for loop to count the number of space characters.\n",
    "    for ch in mystring:\n",
    "        # if statement checks for spaces.\n",
    "        if ch == ' ':\n",
    "            # if there is a space count 1.\n",
    "            count += 1\n",
    "    # Print function to display the number of space characters.\n",
    "    print(f'The number of spaces in the string is: {count}')\n",
    "# Calling main function.\n",
    "main()\n",
    "            "
   ]
  },
  {
   "cell_type": "markdown",
   "id": "028dab3e",
   "metadata": {},
   "source": [
    "## Question 4 Algorithm Workbench\n",
    "\n",
    "I write a loop that counts the number of lowercase characters that appear in the string referenced by mystring."
   ]
  },
  {
   "cell_type": "code",
   "execution_count": 3,
   "id": "6e211fbe",
   "metadata": {},
   "outputs": [
    {
     "name": "stdout",
     "output_type": "stream",
     "text": [
      "The number of lowercase characters in the string is: 14\n"
     ]
    }
   ],
   "source": [
    "def main():\n",
    "    # Created variable to hold the count.\n",
    "    count = 0\n",
    "    # Created variable for my string.\n",
    "    mystring = 'Testing This String'\n",
    "    # Using for loop to count the number of space characters.\n",
    "    for ch in mystring:\n",
    "        # if statement to check for lowercase.\n",
    "        if ch.islower():\n",
    "            # if there is lowercase count 1.\n",
    "            count += 1\n",
    "    # Print function to display the number of lowercase characters.\n",
    "    print(f'The number of lowercase characters in the string is: {count}')\n",
    "# Calling main function.\n",
    "main()\n",
    "    "
   ]
  },
  {
   "cell_type": "markdown",
   "id": "7377aa0f",
   "metadata": {},
   "source": [
    "## Question 1 Initials\n",
    "\n",
    "I write a program that contains a string of someones first middle and last name and displays their initials."
   ]
  },
  {
   "cell_type": "code",
   "execution_count": 6,
   "id": "f5323360",
   "metadata": {},
   "outputs": [
    {
     "name": "stdout",
     "output_type": "stream",
     "text": [
      "J W S\n"
     ]
    }
   ],
   "source": [
    "def main():\n",
    "    # Created variable for my string.\n",
    "    mystring = 'John William Smith'\n",
    "    # Print function to display Initials using indexing.\n",
    "    print(mystring[0], mystring[5], mystring[13])\n",
    "    # Calling main.\n",
    "main()\n",
    "    "
   ]
  },
  {
   "cell_type": "markdown",
   "id": "79975e3c",
   "metadata": {},
   "source": [
    "## Question 2 Sum of Digits in a String\n",
    "\n",
    "I write a program that asks the user input a series of single digit numbers with nothing separating them. The program then displays the sum of the single gigit numbers in the string."
   ]
  },
  {
   "cell_type": "code",
   "execution_count": 13,
   "id": "be3f4c55",
   "metadata": {},
   "outputs": [
    {
     "name": "stdout",
     "output_type": "stream",
     "text": [
      "Enter of series of single digit numbers:2345\n",
      "The total is: 14.0\n"
     ]
    }
   ],
   "source": [
    "def main():\n",
    "    # Create a variable for total.\n",
    "    total = 0\n",
    "    # Ask the user to input a series of single digit numbers for my string.\n",
    "    mystring = input('Enter of series of single digit numbers:')\n",
    "    # Using a for loop to calculate the total of the single digit numbers.\n",
    "    for ch in mystring:\n",
    "        # if the next part of the string is a digit it will add it to the total.\n",
    "        if ch.isdigit():\n",
    "            # Adds all the numbers in the string to get a total.\n",
    "            total += float(ch)\n",
    "    # Displays the total of the series of numbers added together.        \n",
    "    print('The total is:',total)\n",
    "# calling main function.\n",
    "main()\n",
    "        \n",
    "    "
   ]
  },
  {
   "cell_type": "markdown",
   "id": "dc79e3f9",
   "metadata": {},
   "source": [
    "## Question 3 Date Printer\n",
    "\n",
    "I write a program that reads a string containing a date (mm/dd/yyyy) and prints in the format march 12, 2018."
   ]
  },
  {
   "cell_type": "code",
   "execution_count": 37,
   "id": "21f82183",
   "metadata": {},
   "outputs": [
    {
     "name": "stdout",
     "output_type": "stream",
     "text": [
      "March 12, 2018\n"
     ]
    }
   ],
   "source": [
    "def main():\n",
    "    \n",
    "    date_string = '03/12/2018'\n",
    "    \n",
    "    date_list = date_string.split('/') \n",
    "\n",
    "    month = date_list[0]\n",
    "    day = date_list [1]\n",
    "    year = date_list [2]\n",
    "    \n",
    "    if month == '03':\n",
    "        month = 'March'\n",
    "    \n",
    "    print(f'{month} {day}, {year}')\n",
    "    \n",
    "main()"
   ]
  },
  {
   "cell_type": "code",
   "execution_count": null,
   "id": "6386a74e",
   "metadata": {},
   "outputs": [],
   "source": []
  }
 ],
 "metadata": {
  "kernelspec": {
   "display_name": "Python 3 (ipykernel)",
   "language": "python",
   "name": "python3"
  },
  "language_info": {
   "codemirror_mode": {
    "name": "ipython",
    "version": 3
   },
   "file_extension": ".py",
   "mimetype": "text/x-python",
   "name": "python",
   "nbconvert_exporter": "python",
   "pygments_lexer": "ipython3",
   "version": "3.11.4"
  }
 },
 "nbformat": 4,
 "nbformat_minor": 5
}
