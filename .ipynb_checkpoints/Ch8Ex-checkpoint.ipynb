{
 "cells": [
  {
   "cell_type": "markdown",
   "id": "b3066cda",
   "metadata": {},
   "source": [
    "# Chapter 8 Practice Questions\n",
    "\n",
    "Questions 2,"
   ]
  },
  {
   "cell_type": "markdown",
   "id": "08b04e4d",
   "metadata": {},
   "source": [
    "## Question 2 Algorithm Workbench\n",
    "\n",
    "I write a loop that counts the number of space characters that appear in the string referenced by mystring."
   ]
  },
  {
   "cell_type": "code",
   "execution_count": 2,
   "id": "d089d9bb",
   "metadata": {},
   "outputs": [
    {
     "name": "stdout",
     "output_type": "stream",
     "text": [
      "The number of spaces in the string is: 2\n"
     ]
    }
   ],
   "source": [
    "def main():\n",
    "    # Created variable to hold the count.\n",
    "    count = 0\n",
    "    # Created variable for my string.\n",
    "    mystring = 'testing this string'\n",
    "    # Using for loop to count the number of space characters.\n",
    "    for ch in mystring:\n",
    "        # if statement checks for spaces.\n",
    "        if ch == ' ':\n",
    "            # if there is a space count 1.\n",
    "            count += 1\n",
    "    # Print function to display the number of space characters.\n",
    "    print(f'The number of spaces in the string is: {count}')\n",
    "# Calling main function.\n",
    "main()\n",
    "            "
   ]
  },
  {
   "cell_type": "markdown",
   "id": "e757a0b4",
   "metadata": {},
   "source": [
    "## Question 4 Algorithm Workbench\n",
    "\n",
    "I write a loop that counts the number of lowercase characters that appear in the string referenced by mystring."
   ]
  },
  {
   "cell_type": "code",
   "execution_count": null,
   "id": "10398003",
   "metadata": {},
   "outputs": [],
   "source": [
    "def main():\n",
    "    # Created variable to hold the count.\n",
    "    count = 0\n",
    "    # Created variable for my string.\n",
    "    mystring = 'Testing This String'\n",
    "    # Using for loop to count the number of space characters.\n",
    "    for ch in mystring:\n",
    "    "
   ]
  }
 ],
 "metadata": {
  "kernelspec": {
   "display_name": "Python 3 (ipykernel)",
   "language": "python",
   "name": "python3"
  },
  "language_info": {
   "codemirror_mode": {
    "name": "ipython",
    "version": 3
   },
   "file_extension": ".py",
   "mimetype": "text/x-python",
   "name": "python",
   "nbconvert_exporter": "python",
   "pygments_lexer": "ipython3",
   "version": "3.11.4"
  }
 },
 "nbformat": 4,
 "nbformat_minor": 5
}
