{
 "cells": [
  {
   "cell_type": "markdown",
   "id": "5a442bed",
   "metadata": {},
   "source": [
    "# Chapter 7 Practice Questions\n",
    "\n",
    "questions 1, 2,"
   ]
  },
  {
   "cell_type": "markdown",
   "id": "9975fb88",
   "metadata": {},
   "source": [
    "## Question 1 Algorithm Workbench\n",
    "\n",
    "I write a statement that creates a list with the following strings listed below."
   ]
  },
  {
   "cell_type": "code",
   "execution_count": 5,
   "id": "38b35603",
   "metadata": {},
   "outputs": [
    {
     "name": "stdout",
     "output_type": "stream",
     "text": [
      "['Einstein', 'Newton', 'Copernicus', 'Kepler']\n"
     ]
    }
   ],
   "source": [
    "# I assign the variable to the list of four different names.\n",
    "names = ['Einstein', 'Newton', 'Copernicus', 'Kepler']\n",
    "# Using the print function to display the four names below.\n",
    "print(names)"
   ]
  },
  {
   "cell_type": "markdown",
   "id": "e448c940",
   "metadata": {},
   "source": [
    "## Question 2 Algorithm Workbench\n",
    "\n",
    "I write a for loop that displays each element of the list."
   ]
  },
  {
   "cell_type": "code",
   "execution_count": 6,
   "id": "999022a4",
   "metadata": {},
   "outputs": [
    {
     "name": "stdout",
     "output_type": "stream",
     "text": [
      "Einstein\n",
      "Newton\n",
      "Copernicus\n",
      "Kepler\n"
     ]
    }
   ],
   "source": [
    "# Copied over from the question above.\n",
    "names = ['Einstein', 'Newton', 'Copernicus', 'Kepler']\n",
    "# Adding a for loop for the list of names.\n",
    "for name in names:\n",
    "    # Using the print function to display the list.\n",
    "    print(name)\n",
    "    "
   ]
  },
  {
   "cell_type": "markdown",
   "id": "7fad4537",
   "metadata": {},
   "source": [
    "## Question 1 Total Sales\n",
    "\n",
    "I design a program that asks the user to enter a store's sales each day of the week. The amounts are stored on a list and I use a loop to calculate the total sales for the week and display the result."
   ]
  },
  {
   "cell_type": "code",
   "execution_count": null,
   "id": "4849f61f",
   "metadata": {},
   "outputs": [],
   "source": []
  }
 ],
 "metadata": {
  "kernelspec": {
   "display_name": "Python 3 (ipykernel)",
   "language": "python",
   "name": "python3"
  },
  "language_info": {
   "codemirror_mode": {
    "name": "ipython",
    "version": 3
   },
   "file_extension": ".py",
   "mimetype": "text/x-python",
   "name": "python",
   "nbconvert_exporter": "python",
   "pygments_lexer": "ipython3",
   "version": "3.11.4"
  }
 },
 "nbformat": 4,
 "nbformat_minor": 5
}
