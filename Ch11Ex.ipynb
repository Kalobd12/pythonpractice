{
 "cells": [
  {
   "cell_type": "markdown",
   "id": "5bf98e96",
   "metadata": {},
   "source": [
    "# Chapter 11 Practice Questions\n",
    "\n",
    "Questions 1, 2\n"
   ]
  },
  {
   "cell_type": "markdown",
   "id": "e26135d8",
   "metadata": {},
   "source": [
    "## Question 1 Employee and ProductionWorker Classes"
   ]
  },
  {
   "cell_type": "code",
   "execution_count": 4,
   "id": "4a23bca9",
   "metadata": {},
   "outputs": [
    {
     "name": "stdout",
     "output_type": "stream",
     "text": [
      "Enter employee name:Kalob\n",
      "Enter employee number55555\n",
      "Enter shift number 1 or 2 for day or night shift:1\n",
      "Enter pay rate:30\n",
      "Name: Kalob\n",
      "Employee number: 55555\n",
      "Shift: 1\n",
      "Pay rate: 30.0\n"
     ]
    }
   ],
   "source": [
    "import productionworker\n",
    "\n",
    "def main():\n",
    "    #\n",
    "    name = input('Enter employee name:')\n",
    "    #\n",
    "    number = input('Enter employee number')\n",
    "    #\n",
    "    shift_number = int(input('Enter shift number 1 or 2 for day or night shift:'))\n",
    "    #\n",
    "    pay_rate = float(input('Enter pay rate:'))\n",
    "    #\n",
    "    productionworker1 = productionworker.ProductionWorker(name, number, shift_number, pay_rate)\n",
    "    #\n",
    "    print('Name:', productionworker1.get_name())\n",
    "    print('Employee number:', productionworker1.get_number())\n",
    "    print('Shift:', productionworker1.get_shift_number())\n",
    "    print('Pay rate:', productionworker1.get_pay_rate())\n",
    "\n",
    "main()    "
   ]
  },
  {
   "cell_type": "markdown",
   "id": "98aa1219",
   "metadata": {},
   "source": [
    "## Question 2 ShiftSupervisor Class"
   ]
  },
  {
   "cell_type": "code",
   "execution_count": 10,
   "id": "0560cad4",
   "metadata": {},
   "outputs": [
    {
     "name": "stdout",
     "output_type": "stream",
     "text": [
      "5555\n",
      "5554\n"
     ]
    }
   ],
   "source": [
    "import shiftsupervisor\n",
    "\n",
    "def main():\n",
    "    #\n",
    "    supervisor1 = shiftsupervisor.ShiftSupervisor('Kalob', '5555', 80000, 2500)\n",
    "    #\n",
    "    print(supervisor1.get_number())\n",
    "    #\n",
    "    supervisor1.set_number('5554')\n",
    "    #\n",
    "    print(supervisor1.get_number())\n",
    "    \n",
    "main()"
   ]
  },
  {
   "cell_type": "code",
   "execution_count": null,
   "id": "a723abe8",
   "metadata": {},
   "outputs": [],
   "source": []
  }
 ],
 "metadata": {
  "kernelspec": {
   "display_name": "Python 3 (ipykernel)",
   "language": "python",
   "name": "python3"
  },
  "language_info": {
   "codemirror_mode": {
    "name": "ipython",
    "version": 3
   },
   "file_extension": ".py",
   "mimetype": "text/x-python",
   "name": "python",
   "nbconvert_exporter": "python",
   "pygments_lexer": "ipython3",
   "version": "3.11.4"
  }
 },
 "nbformat": 4,
 "nbformat_minor": 5
}
