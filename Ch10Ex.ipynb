{
 "cells": [
  {
   "cell_type": "markdown",
   "id": "f5d35c37",
   "metadata": {},
   "source": [
    "# Chapter 10 Practice Questions\n",
    "\n",
    "Questions 1, 4"
   ]
  },
  {
   "cell_type": "code",
   "execution_count": 5,
   "id": "b17d01bd",
   "metadata": {},
   "outputs": [],
   "source": []
  },
  {
   "cell_type": "code",
   "execution_count": null,
   "id": "a321825a",
   "metadata": {},
   "outputs": [],
   "source": []
  }
 ],
 "metadata": {
  "kernelspec": {
   "display_name": "Python 3 (ipykernel)",
   "language": "python",
   "name": "python3"
  },
  "language_info": {
   "codemirror_mode": {
    "name": "ipython",
    "version": 3
   },
   "file_extension": ".py",
   "mimetype": "text/x-python",
   "name": "python",
   "nbconvert_exporter": "python",
   "pygments_lexer": "ipython3",
   "version": "3.11.4"
  }
 },
 "nbformat": 4,
 "nbformat_minor": 5
}
