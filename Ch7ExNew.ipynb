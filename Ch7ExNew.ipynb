{
 "cells": [
  {
   "cell_type": "markdown",
   "id": "62a0263f",
   "metadata": {},
   "source": [
    "# Chapter 7 Practice Questions\n",
    "\n",
    "questions 1, 2, 1, 14"
   ]
  },
  {
   "cell_type": "markdown",
   "id": "e5649078",
   "metadata": {},
   "source": [
    "## Question 1 Algorithm Workbench\n",
    "\n",
    "I write a statement that creates a list with the following strings listed below."
   ]
  },
  {
   "cell_type": "code",
   "execution_count": 1,
   "id": "81ff0af8",
   "metadata": {},
   "outputs": [
    {
     "name": "stdout",
     "output_type": "stream",
     "text": [
      "['Einstein', 'Newton', 'Copernicus', 'Kepler']\n"
     ]
    }
   ],
   "source": [
    "# I assign the variable to the list of four different names.\n",
    "names = ['Einstein', 'Newton', 'Copernicus', 'Kepler']\n",
    "# Using the print function to display the four names below.\n",
    "print(names)"
   ]
  },
  {
   "cell_type": "markdown",
   "id": "bb6bbb2b",
   "metadata": {},
   "source": [
    "## Question 2 Algorithm Workbench\n",
    "\n",
    "I write a for loop that displays each element of the list."
   ]
  },
  {
   "cell_type": "code",
   "execution_count": 2,
   "id": "7a759d52",
   "metadata": {},
   "outputs": [
    {
     "name": "stdout",
     "output_type": "stream",
     "text": [
      "Einstein\n",
      "Newton\n",
      "Copernicus\n",
      "Kepler\n"
     ]
    }
   ],
   "source": [
    "# Copied over from the question above.\n",
    "names = ['Einstein', 'Newton', 'Copernicus', 'Kepler']\n",
    "# Adding a for loop for the list of names.\n",
    "for name in names:\n",
    "    # Using the print function to display the list.\n",
    "    print(name)"
   ]
  },
  {
   "cell_type": "markdown",
   "id": "314f9559",
   "metadata": {},
   "source": [
    "## Question 1 Total Sales\n",
    "\n",
    "I design a program that asks the user to enter a store's sales each day of the week. The amounts are stored on a list and I use a loop to calculate the total sales for the week and display the result."
   ]
  },
  {
   "cell_type": "code",
   "execution_count": null,
   "id": "ddb232ab",
   "metadata": {},
   "outputs": [
    {
     "name": "stdout",
     "output_type": "stream",
     "text": [
      "Enter the sales for each day\n",
      "Day #1: 50\n",
      "Day #2: 25\n",
      "Day #3: 50\n"
     ]
    }
   ],
   "source": [
    "def main():\n",
    "    # holds the number of days the program will gather data for.\n",
    "    num_days = 7\n",
    "    # created a variable to use as an accumulator.\n",
    "    total = 0\n",
    "    # The list to hold the sales of each day.\n",
    "    sales = [0] * num_days\n",
    "    # print function to display at the top.\n",
    "    print('Enter the sales for each day')\n",
    "    # using a for loop that gets the sales of each day using the len function to get the indexes for the list.\n",
    "    for index in range(len(sales)):\n",
    "        # this will have the user input each day of sales into the list sales.\n",
    "        sales[index] = float(input(f'Day #{index + 1}: '))\n",
    "    # using a for loop to calculate the total from the list of sales.\n",
    "    for daily_sales in sales:\n",
    "        # adds all the daily sales to the variable total\n",
    "        total += daily_sales\n",
    "    # print function to display the total sales for the week.\n",
    "    print('Total sales for the week:', total)\n",
    "    \n",
    "main()\n"
   ]
  },
  {
   "cell_type": "code",
   "execution_count": null,
   "id": "88236617",
   "metadata": {},
   "outputs": [],
   "source": []
  }
 ],
 "metadata": {
  "kernelspec": {
   "display_name": "Python 3 (ipykernel)",
   "language": "python",
   "name": "python3"
  },
  "language_info": {
   "codemirror_mode": {
    "name": "ipython",
    "version": 3
   },
   "file_extension": ".py",
   "mimetype": "text/x-python",
   "name": "python",
   "nbconvert_exporter": "python",
   "pygments_lexer": "ipython3",
   "version": "3.11.4"
  }
 },
 "nbformat": 4,
 "nbformat_minor": 5
}
