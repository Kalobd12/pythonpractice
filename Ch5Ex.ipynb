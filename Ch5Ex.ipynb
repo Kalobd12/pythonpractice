{
 "cells": [
  {
   "cell_type": "markdown",
   "id": "a4dcb561",
   "metadata": {},
   "source": [
    "# Chapter 5 Practice Questions\n",
    "\n",
    "Questions 1,"
   ]
  },
  {
   "cell_type": "markdown",
   "id": "9fe6de49",
   "metadata": {},
   "source": [
    "## Question 1 Algorithm Workbench\n",
    "\n",
    "I write a function named times_ten that accepts an argument and displays the product of its argument multiplied by 10."
   ]
  },
  {
   "cell_type": "code",
   "execution_count": 14,
   "id": "46b293b2",
   "metadata": {},
   "outputs": [],
   "source": [
    "# I define the main function to input the value and times_ten.\n",
    "def main():\n",
    "    value = 10\n",
    "    times_ten(value)\n"
   ]
  },
  {
   "cell_type": "code",
   "execution_count": null,
   "id": "2d13444a",
   "metadata": {},
   "outputs": [],
   "source": []
  },
  {
   "cell_type": "code",
   "execution_count": null,
   "id": "df32d8a0",
   "metadata": {},
   "outputs": [],
   "source": []
  }
 ],
 "metadata": {
  "kernelspec": {
   "display_name": "Python 3 (ipykernel)",
   "language": "python",
   "name": "python3"
  },
  "language_info": {
   "codemirror_mode": {
    "name": "ipython",
    "version": 3
   },
   "file_extension": ".py",
   "mimetype": "text/x-python",
   "name": "python",
   "nbconvert_exporter": "python",
   "pygments_lexer": "ipython3",
   "version": "3.11.4"
  }
 },
 "nbformat": 4,
 "nbformat_minor": 5
}
