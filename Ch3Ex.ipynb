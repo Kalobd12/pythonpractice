{
 "cells": [
  {
   "cell_type": "markdown",
   "id": "74c9390a",
   "metadata": {},
   "source": [
    "# Code Set 3 (Chapter 3 Questions)\n",
    "\n",
    "Problems 4, 5, 1, 5, 15-18"
   ]
  },
  {
   "cell_type": "markdown",
   "id": "b6f78daf",
   "metadata": {},
   "source": [
    "## Question 4 (Algorithm Workbench)"
   ]
  },
  {
   "cell_type": "code",
   "execution_count": 7,
   "id": "333a523c",
   "metadata": {},
   "outputs": [],
   "source": [
    "# Assigned numbers to the variables.\n",
    "A_SCORE, B_SCORE, C_SCORE, D_SCORE = 90, 80, 70, 60"
   ]
  },
  {
   "cell_type": "code",
   "execution_count": 8,
   "id": "07615a7a",
   "metadata": {},
   "outputs": [
    {
     "name": "stdout",
     "output_type": "stream",
     "text": [
      "Enter your test score: 90\n"
     ]
    }
   ],
   "source": [
    "# Defined score and used input to put in test score.\n",
    "score = int(input('Enter your test score: '))"
   ]
  },
  {
   "cell_type": "code",
   "execution_count": 9,
   "id": "252db938",
   "metadata": {},
   "outputs": [
    {
     "name": "stdout",
     "output_type": "stream",
     "text": [
      "Your grade is A.\n"
     ]
    }
   ],
   "source": [
    "# My ebook has the code in a photo so I will type it out properly below.\n",
    "if score >= A_SCORE:\n",
    "    print('Your grade is A.')\n",
    "else:\n",
    "    if score >= B_SCORE:\n",
    "        print('Your grade is B.')\n",
    "    else:\n",
    "        if score >= C_SCORE:\n",
    "            print('Your grade is C.')\n",
    "        else:\n",
    "            if score >= D_SCORE:\n",
    "                print('Your grade is D.')\n",
    "            else:\n",
    "                print('Your grade is F.')\n",
    "# No need for a variable for F since if you're below 60 thats a failing grade."
   ]
  },
  {
   "cell_type": "markdown",
   "id": "1bcf8dea",
   "metadata": {},
   "source": [
    "## Question 5 (Algorithm Workbench)"
   ]
  },
  {
   "cell_type": "code",
   "execution_count": 10,
   "id": "6af82dff",
   "metadata": {},
   "outputs": [
    {
     "name": "stdout",
     "output_type": "stream",
     "text": [
      "How much is Amount1: 26\n",
      "How much is amount2: 99\n"
     ]
    }
   ],
   "source": [
    "#I Start with inputting the variables with the input function.\n",
    "Amount1 = int(input('How much is Amount1: '))\n",
    "Amount2 = int(input('How much is amount2: '))"
   ]
  },
  {
   "cell_type": "code",
   "execution_count": 23,
   "id": "e6fa9a1a",
   "metadata": {},
   "outputs": [
    {
     "name": "stdout",
     "output_type": "stream",
     "text": [
      "Amount2 is greater with a value of: 99\n"
     ]
    }
   ],
   "source": [
    "# I write the nested if-else statement to display the greater of Amount1 or Amount2.\n",
    "if Amount1 > Amount2:\n",
    "    print('Amount1 is greater with a value of:',Amount1)\n",
    "else:\n",
    "    if Amount2 > Amount1:\n",
    "        print('Amount2 is greater with a value of:',Amount2)\n",
    "# Below the greater value is displayed."
   ]
  },
  {
   "cell_type": "markdown",
   "id": "afc5a578",
   "metadata": {},
   "source": [
    "## Question 1 (Programming Exercises)"
   ]
  },
  {
   "cell_type": "code",
   "execution_count": 25,
   "id": "f57d85f6",
   "metadata": {},
   "outputs": [
    {
     "name": "stdout",
     "output_type": "stream",
     "text": [
      "Enter a number from 1 to 7: 4\n"
     ]
    }
   ],
   "source": [
    "# I write a input function to have the user input a number.\n",
    "day = int(input('Enter a number from 1 to 7: '))"
   ]
  },
  {
   "cell_type": "code",
   "execution_count": null,
   "id": "f9ba8e76",
   "metadata": {},
   "outputs": [],
   "source": [
    "# I write the nested if-else statement "
   ]
  }
 ],
 "metadata": {
  "kernelspec": {
   "display_name": "Python 3 (ipykernel)",
   "language": "python",
   "name": "python3"
  },
  "language_info": {
   "codemirror_mode": {
    "name": "ipython",
    "version": 3
   },
   "file_extension": ".py",
   "mimetype": "text/x-python",
   "name": "python",
   "nbconvert_exporter": "python",
   "pygments_lexer": "ipython3",
   "version": "3.11.4"
  }
 },
 "nbformat": 4,
 "nbformat_minor": 5
}
