{
 "cells": [
  {
   "cell_type": "markdown",
   "id": "74c9390a",
   "metadata": {},
   "source": [
    "# Code Set 3 (Chapter 3 Questions)\n",
    "\n",
    "Problems 4, 5, 1, 5, 18, 17                           \n",
    "My chapter 3 questions                          "
   ]
  },
  {
   "cell_type": "markdown",
   "id": "38f40f5d",
   "metadata": {},
   "source": [
    "## Question 4 (Algorithm Workbench)"
   ]
  },
  {
   "cell_type": "code",
   "execution_count": 7,
   "id": "601d81b6",
   "metadata": {},
   "outputs": [],
   "source": [
    "# Assigned numbers to the variables.\n",
    "A_SCORE, B_SCORE, C_SCORE, D_SCORE = 90, 80, 70, 60"
   ]
  },
  {
   "cell_type": "code",
   "execution_count": 8,
   "id": "f39afc90",
   "metadata": {},
   "outputs": [
    {
     "name": "stdout",
     "output_type": "stream",
     "text": [
      "Enter your test score: 90\n"
     ]
    }
   ],
   "source": [
    "# Defined score and used input to put in test score.\n",
    "score = int(input('Enter your test score: '))"
   ]
  },
  {
   "cell_type": "code",
   "execution_count": 9,
   "id": "5f1c5e46",
   "metadata": {},
   "outputs": [
    {
     "name": "stdout",
     "output_type": "stream",
     "text": [
      "Your grade is A.\n"
     ]
    }
   ],
   "source": [
    "# My ebook has the code in a photo so I will type it out properly below.\n",
    "if score >= A_SCORE:\n",
    "    print('Your grade is A.')\n",
    "else:\n",
    "    if score >= B_SCORE:\n",
    "        print('Your grade is B.')\n",
    "    else:\n",
    "        if score >= C_SCORE:\n",
    "            print('Your grade is C.')\n",
    "        else:\n",
    "            if score >= D_SCORE:\n",
    "                print('Your grade is D.')\n",
    "            else:\n",
    "                print('Your grade is F.')\n",
    "# No need for a variable for F since if you're below 60 thats a failing grade."
   ]
  },
  {
   "cell_type": "markdown",
   "id": "9e0edb8a",
   "metadata": {},
   "source": [
    "## Question 5 (Algorithm Workbench)"
   ]
  },
  {
   "cell_type": "code",
   "execution_count": 10,
   "id": "a4c80321",
   "metadata": {},
   "outputs": [
    {
     "name": "stdout",
     "output_type": "stream",
     "text": [
      "How much is Amount1: 26\n",
      "How much is amount2: 99\n"
     ]
    }
   ],
   "source": [
    "#I Start with inputting the variables with the input function.\n",
    "Amount1 = int(input('How much is Amount1: '))\n",
    "Amount2 = int(input('How much is amount2: '))"
   ]
  },
  {
   "cell_type": "code",
   "execution_count": 23,
   "id": "e286352f",
   "metadata": {},
   "outputs": [
    {
     "name": "stdout",
     "output_type": "stream",
     "text": [
      "Amount2 is greater with a value of: 99\n"
     ]
    }
   ],
   "source": [
    "# I write the nested if-else statement to display the greater of Amount1 or Amount2.\n",
    "if Amount1 > Amount2:\n",
    "    print('Amount1 is greater with a value of:',Amount1)\n",
    "else:\n",
    "    if Amount2 > Amount1:\n",
    "        print('Amount2 is greater with a value of:',Amount2)\n",
    "# Below the greater value is displayed."
   ]
  },
  {
   "cell_type": "markdown",
   "id": "d47fbd2e",
   "metadata": {},
   "source": [
    "## Question 1 (Programming Exercises)"
   ]
  },
  {
   "cell_type": "code",
   "execution_count": 25,
   "id": "6b4af9b0",
   "metadata": {},
   "outputs": [
    {
     "name": "stdout",
     "output_type": "stream",
     "text": [
      "Enter a number from 1 to 7: 4\n"
     ]
    }
   ],
   "source": [
    "# I write a input function to have the user input a number.\n",
    "day = int(input('Enter a number from 1 to 7: '))"
   ]
  },
  {
   "cell_type": "code",
   "execution_count": 27,
   "id": "f995c888",
   "metadata": {},
   "outputs": [
    {
     "name": "stdout",
     "output_type": "stream",
     "text": [
      "4 is Thursday\n"
     ]
    }
   ],
   "source": [
    "# I write the nested if-else program to display the day based on what the user inputs.\n",
    "if day == 1:\n",
    "    print(day, 'is Monday')\n",
    "else:\n",
    "    if day == 2:\n",
    "        print(day, 'is Tuesday')\n",
    "    else:\n",
    "        if day == 3:\n",
    "            print(day, 'is Wednesday')\n",
    "        else:\n",
    "            if day == 4:\n",
    "                print(day, 'is Thursday')\n",
    "            else:\n",
    "                if day == 5:\n",
    "                    print(day, 'is Friday')\n",
    "                else:\n",
    "                    if day == 6:\n",
    "                        print(day, 'is Saturday')\n",
    "                    else:\n",
    "                        if day == 7:\n",
    "                            print(day, 'is Sunday')\n",
    "                        else:\n",
    "                            print('Incorrect input, Please endter a number from 1-7')\n",
    "# If input value is not 1-7 it will desplay the error message above."
   ]
  },
  {
   "cell_type": "markdown",
   "id": "bf01d083",
   "metadata": {},
   "source": [
    "## Question 5 (Programming Exercises)"
   ]
  },
  {
   "cell_type": "code",
   "execution_count": 42,
   "id": "a6f104a0",
   "metadata": {},
   "outputs": [],
   "source": [
    "# I input the formula for measuring weight in newtons based on mass\n",
    "weight = mass * 9.8"
   ]
  },
  {
   "cell_type": "code",
   "execution_count": 43,
   "id": "cb24b325",
   "metadata": {},
   "outputs": [
    {
     "name": "stdout",
     "output_type": "stream",
     "text": [
      "Enter the objects mass: 30\n"
     ]
    }
   ],
   "source": [
    "# I use the input function to ask the user to input the mass of the object.\n",
    "mass = int(input('Enter the objects mass: '))"
   ]
  },
  {
   "cell_type": "code",
   "execution_count": 44,
   "id": "6f33a907",
   "metadata": {},
   "outputs": [
    {
     "name": "stdout",
     "output_type": "stream",
     "text": [
      "The weight is: 294.0 newtons\n"
     ]
    }
   ],
   "source": [
    "# I write an if-else program to display a different response based on what the user inputs.\n",
    "if weight < 100:\n",
    "    print('Object is too light')\n",
    "else:\n",
    "    if weight >= 100 and weight <= 500:\n",
    "        print('The weight is:',weight ,'newtons')\n",
    "    else:\n",
    "        if weight > 500:\n",
    "            print('Object is too heavy')\n",
    "# It will either display Object is too light, Object is too heavy, or the value in newtons."
   ]
  },
  {
   "cell_type": "markdown",
   "id": "bc0d8f3d",
   "metadata": {},
   "source": [
    "## Question 18 (Restaurant Selector)\n",
    "\n",
    "Following along and iterating with the video."
   ]
  },
  {
   "cell_type": "code",
   "execution_count": 84,
   "id": "a70e4e77",
   "metadata": {},
   "outputs": [
    {
     "name": "stdout",
     "output_type": "stream",
     "text": [
      "Is anyone in your party a vegetarian?\n",
      "no\n"
     ]
    }
   ],
   "source": [
    "# Writing the input functions so the user can input yes or no based on their dietary restrictions.\n",
    "print('Is anyone in your party a vegetarian?')\n",
    "vegetarian = input().lower().strip()"
   ]
  },
  {
   "cell_type": "code",
   "execution_count": 85,
   "id": "25556f46",
   "metadata": {},
   "outputs": [
    {
     "name": "stdout",
     "output_type": "stream",
     "text": [
      "Is anyone in your party a vegan?\n",
      "no\n"
     ]
    }
   ],
   "source": [
    "# Copied string over and replaced variable.\n",
    "print('Is anyone in your party a vegan?')\n",
    "vegan = input().lower().strip()"
   ]
  },
  {
   "cell_type": "code",
   "execution_count": 86,
   "id": "ee5696f1",
   "metadata": {},
   "outputs": [
    {
     "name": "stdout",
     "output_type": "stream",
     "text": [
      "Is anyone in your party a gluten-free?\n",
      "no\n"
     ]
    }
   ],
   "source": [
    "# Copied string over and replaced variable and changed - to _.\n",
    "print('Is anyone in your party a gluten-free?')\n",
    "gluten_free = input().lower().strip()\n",
    "# Used .lower and .strip to make it input the variable as lower case and with no space regardless of what the user inputted."
   ]
  },
  {
   "cell_type": "code",
   "execution_count": 89,
   "id": "68ceea16",
   "metadata": {},
   "outputs": [
    {
     "name": "stdout",
     "output_type": "stream",
     "text": [
      "here are your restaurant choices\n",
      "     Joe's Gourmet Burgers\n",
      "     Main Street Pizza Company\n",
      "     Mama's Fine Italian\n",
      "     Corner Café\n",
      "     The Chef's Kitchen\n"
     ]
    }
   ],
   "source": [
    "# Adding the print function to display restaurant choices.\n",
    "print('here are your restaurant choices')\n",
    "\n",
    "# initialize indent variable\n",
    "indent = \"    \"\n",
    "\n",
    "# Adding print functions to display the different restaurants and adding if functions for the different restaurants.\n",
    "if vegetarian != 'yes' and vegan != 'yes' and gluten_free != 'yes':\n",
    "    print(indent, \"Joe's Gourmet Burgers\")\n",
    "    \n",
    "if vegan == 'no':\n",
    "    print(indent, 'Main Street Pizza Company')\n",
    "    \n",
    "if vegan == 'no' and gluten_free == 'no':\n",
    "    print(indent, \"Mama's Fine Italian\")\n",
    "    \n",
    "print(indent, 'Corner Café')\n",
    "print(indent, \"The Chef's Kitchen\")\n",
    "# with all answers as no I have all restaurants shown below."
   ]
  },
  {
   "cell_type": "markdown",
   "id": "a4333179",
   "metadata": {},
   "source": [
    "# Question 17 (Wi-Fi Diagnostic Tree)\n",
    "\n",
    "Using the flowchart from the texbook I create a program that diagnoses their bad Wi-Fi connection."
   ]
  },
  {
   "cell_type": "code",
   "execution_count": 9,
   "id": "b6dfdf0d",
   "metadata": {},
   "outputs": [
    {
     "name": "stdout",
     "output_type": "stream",
     "text": [
      "Reboot the computer and try to connect.\n",
      "Did that fix the problem? no\n",
      "Reboot the router and try to connect.\n",
      "Did that fix the problem? no\n",
      "Make sure the cables between the router & modem are plugged in firmly\n",
      "Did that fix the problem? no\n",
      "Move the router to a new location and try to connect.\n",
      "Did that fix the problem? no\n",
      "Get a new router.\n"
     ]
    }
   ],
   "source": [
    "# I start by writing a print and input function for rebooting the computer.\n",
    "# I wrote the logic to determine if rebooting fixed the issue and to move on to the next question.\n",
    "# After everything was plugged in I tested if it would display the correct print function based on the responses.\n",
    "print('Reboot the computer and try to connect.')\n",
    "user_reply = input('Did that fix the problem? ')\n",
    "if user_reply == 'yes':\n",
    "    print('Your Wi-Fi problem has been fixed')\n",
    "else:\n",
    "    print('Reboot the router and try to connect.')\n",
    "    user_reply = input('Did that fix the problem? ')\n",
    "    if user_reply == 'yes':\n",
    "        print('Your Wi-Fi problem has been fixed')\n",
    "    else:\n",
    "        print('Make sure the cables between the router & modem are plugged in firmly')\n",
    "        user_reply = input('Did that fix the problem? ')\n",
    "        if user_reply == 'yes':\n",
    "            print('Your Wi-Fi problem has been fixed')\n",
    "        else:\n",
    "            print('Move the router to a new location and try to connect.')\n",
    "            user_reply = input('Did that fix the problem? ')\n",
    "            if user_reply == 'yes':\n",
    "                print('Your Wi-Fi problem has been fixed')\n",
    "            else:\n",
    "                print('Get a new router.')\n",
    "# I plugged in the below print and input functions to the if-else program to solve the users wifi problems.\n",
    "# I left the print/input functions below to show how I pieced it together."
   ]
  },
  {
   "cell_type": "code",
   "execution_count": 3,
   "id": "85b3aad1",
   "metadata": {},
   "outputs": [
    {
     "name": "stdout",
     "output_type": "stream",
     "text": [
      "Reboot the router and try to connect.\n",
      "Did that fix the problem? no\n"
     ]
    }
   ],
   "source": [
    "# I write another print and input function for rebooting the router.\n",
    "print('Reboot the router and try to connect.')\n",
    "user_reply = input('Did that fix the problem? ')"
   ]
  },
  {
   "cell_type": "code",
   "execution_count": 4,
   "id": "a629116d",
   "metadata": {},
   "outputs": [
    {
     "name": "stdout",
     "output_type": "stream",
     "text": [
      "Make sure the cables between the router & modem are plugged in firmly\n",
      "Did that fix the problem? no\n"
     ]
    }
   ],
   "source": [
    "# I continue writing another print and input function for make sure all the cables are plugged in.\n",
    "print('Make sure the cables between the router & modem are plugged in firmly')\n",
    "user_reply = input('Did that fix the problem? ')"
   ]
  },
  {
   "cell_type": "code",
   "execution_count": 5,
   "id": "12257776",
   "metadata": {},
   "outputs": [
    {
     "name": "stdout",
     "output_type": "stream",
     "text": [
      "Move the router to a new location and try to connect.\n",
      "Did that fix the problem? no\n"
     ]
    }
   ],
   "source": [
    "# Another print and input function are written to ask them to move the router to another location.\n",
    "print('Move the router to a new location and try to connect.')\n",
    "user_reply = input('Did that fix the problem? ')"
   ]
  },
  {
   "cell_type": "code",
   "execution_count": null,
   "id": "f0dbfa01",
   "metadata": {},
   "outputs": [],
   "source": []
  }
 ],
 "metadata": {
  "kernelspec": {
   "display_name": "Python 3 (ipykernel)",
   "language": "python",
   "name": "python3"
  },
  "language_info": {
   "codemirror_mode": {
    "name": "ipython",
    "version": 3
   },
   "file_extension": ".py",
   "mimetype": "text/x-python",
   "name": "python",
   "nbconvert_exporter": "python",
   "pygments_lexer": "ipython3",
   "version": "3.11.4"
  }
 },
 "nbformat": 4,
 "nbformat_minor": 5
}
