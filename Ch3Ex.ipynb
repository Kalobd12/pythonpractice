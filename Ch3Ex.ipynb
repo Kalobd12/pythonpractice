{
 "cells": [
  {
   "cell_type": "markdown",
   "id": "74c9390a",
   "metadata": {},
   "source": [
    "# Code Set 3 (Chapter 3 Questions)\n",
    "\n",
    "Problems 4, 5, 1, 5, 15-18"
   ]
  },
  {
   "cell_type": "markdown",
   "id": "a0304694",
   "metadata": {},
   "source": [
    "## Question 4 (Algorithm Workbench)"
   ]
  },
  {
   "cell_type": "code",
   "execution_count": null,
   "id": "2a12cfa7",
   "metadata": {},
   "outputs": [],
   "source": [
    "# My ebook has the code in a photo so I will type it out properly below.\n",
    "if score >= A_score:\n",
    "    print('Your grade is A.')\n",
    "    "
   ]
  }
 ],
 "metadata": {
  "kernelspec": {
   "display_name": "Python 3 (ipykernel)",
   "language": "python",
   "name": "python3"
  },
  "language_info": {
   "codemirror_mode": {
    "name": "ipython",
    "version": 3
   },
   "file_extension": ".py",
   "mimetype": "text/x-python",
   "name": "python",
   "nbconvert_exporter": "python",
   "pygments_lexer": "ipython3",
   "version": "3.11.4"
  }
 },
 "nbformat": 4,
 "nbformat_minor": 5
}
