{
 "cells": [
  {
   "cell_type": "markdown",
   "id": "7ae24afc",
   "metadata": {},
   "source": [
    "# Chapter 6 Practice Questions\n",
    "\n",
    "Questions 1,"
   ]
  },
  {
   "cell_type": "markdown",
   "id": "62c90398",
   "metadata": {},
   "source": [
    "## Question 1 Algorithm Workbench\n",
    "\n",
    "I write a program that opens an output file with the filename my_name.txt, writes my name to the file, then closes the file."
   ]
  },
  {
   "cell_type": "code",
   "execution_count": 1,
   "id": "9c1e0072",
   "metadata": {},
   "outputs": [],
   "source": [
    "# I first define the variable for my name that will be written into the file.\n",
    "name = 'Kalob Boston'\n",
    "\n",
    "# Define the main function that will be the start of my program.\n",
    "def main():\n",
    "    # Wrote the variable for the file, opens the file, and names it my_name.txt\n",
    "    # (If one doesn't exist it creates a new one because of 'w')\n",
    "    name_file = open('my_name.txt', 'w')\n",
    "    # Tells the program to write variable name (which is Kalob Boston) onto the text file.\n",
    "    name_file.write(name)\n",
    "    # This tells the file that is specified to close.\n",
    "    name_file.close()\n",
    "# calling the main function to run the program and create my_name.txt.\n",
    "main()\n"
   ]
  },
  {
   "cell_type": "code",
   "execution_count": null,
   "id": "ed7c2be7",
   "metadata": {},
   "outputs": [],
   "source": []
  }
 ],
 "metadata": {
  "kernelspec": {
   "display_name": "Python 3 (ipykernel)",
   "language": "python",
   "name": "python3"
  },
  "language_info": {
   "codemirror_mode": {
    "name": "ipython",
    "version": 3
   },
   "file_extension": ".py",
   "mimetype": "text/x-python",
   "name": "python",
   "nbconvert_exporter": "python",
   "pygments_lexer": "ipython3",
   "version": "3.11.4"
  }
 },
 "nbformat": 4,
 "nbformat_minor": 5
}
