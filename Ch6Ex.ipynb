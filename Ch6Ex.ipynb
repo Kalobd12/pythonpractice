{
 "cells": [
  {
   "cell_type": "markdown",
   "id": "2e2b58fb",
   "metadata": {},
   "source": [
    "# Chapter 6 Practice Questions\n",
    "\n",
    "Questions 1, 2,"
   ]
  },
  {
   "cell_type": "markdown",
   "id": "f7b67ff7",
   "metadata": {},
   "source": [
    "## Question 1 Algorithm Workbench\n",
    "\n",
    "I write a program that opens an output file with the filename my_name.txt, writes my name to the file, then closes the file."
   ]
  },
  {
   "cell_type": "code",
   "execution_count": 1,
   "id": "f838c03c",
   "metadata": {},
   "outputs": [],
   "source": [
    "# I first define the variable for my name that will be written into the file.\n",
    "name = 'Kalob Boston'\n",
    "\n",
    "# Define the main function that will be the start of my program.\n",
    "def main():\n",
    "    # Wrote the variable for the file, opens the file, and names it my_name.txt\n",
    "    # (If one doesn't exist it creates a new one because of 'w')\n",
    "    name_file = open('my_name.txt', 'w')\n",
    "    # Tells the program to write variable name (which is Kalob Boston) onto the text file.\n",
    "    name_file.write(name)\n",
    "    # This tells the file that is specified to close.\n",
    "    name_file.close()\n",
    "# calling the main function to run the program and create my_name.txt.\n",
    "main()\n"
   ]
  },
  {
   "cell_type": "markdown",
   "id": "3d2081b9",
   "metadata": {},
   "source": [
    "## Question 2 Algorithm Workbench\n",
    "\n",
    "I Write a program that opens the the file I made above. It then reads my name from the file and displays it on screen then closes the file."
   ]
  },
  {
   "cell_type": "code",
   "execution_count": null,
   "id": "359ce0b1",
   "metadata": {},
   "outputs": [],
   "source": [
    "# Define the main function that will be the start of my program.\n",
    "def main():\n",
    "    # Writing this opens the file and because of 'r' it is read only so the file cant be changed or edited.\n",
    "    name_file = open('my_name.txt', 'r')"
   ]
  }
 ],
 "metadata": {
  "kernelspec": {
   "display_name": "Python 3 (ipykernel)",
   "language": "python",
   "name": "python3"
  },
  "language_info": {
   "codemirror_mode": {
    "name": "ipython",
    "version": 3
   },
   "file_extension": ".py",
   "mimetype": "text/x-python",
   "name": "python",
   "nbconvert_exporter": "python",
   "pygments_lexer": "ipython3",
   "version": "3.11.4"
  }
 },
 "nbformat": 4,
 "nbformat_minor": 5
}
