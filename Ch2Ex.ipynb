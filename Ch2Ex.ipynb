{
 "cells": [
  {
   "cell_type": "markdown",
   "id": "6ff02ade",
   "metadata": {},
   "source": [
    "# Chapter 2 Ex.\n",
    "\n",
    "problems 5, 5, 13"
   ]
  },
  {
   "cell_type": "markdown",
   "id": "25cbec2b",
   "metadata": {},
   "source": [
    "## Ex 5 Algorithm Workbench\n",
    "\n",
    "The textbook asks us to write a python statement that assigns the sum of 10 and 14 to the variable total.\n",
    "                \n",
    "              "
   ]
  },
  {
   "cell_type": "code",
   "execution_count": 13,
   "id": "725fe71f",
   "metadata": {},
   "outputs": [
    {
     "name": "stdout",
     "output_type": "stream",
     "text": [
      "how many apples do you have? 10\n",
      "how many oranges do you have? 14\n"
     ]
    }
   ],
   "source": [
    "# (I know this isn't exactly what the textbook asks, just wanted to practice a little more with what we learned.)\n",
    "# I use what I learned from the chapter to use input function to add variables to both 10 and 14. \n",
    "apples = int(input('how many apples do you have? '))\n",
    "oranges = int (input('how many oranges do you have? '))\n",
    "# I input values 10 and 14."
   ]
  },
  {
   "cell_type": "code",
   "execution_count": 4,
   "id": "c0d1c3aa",
   "metadata": {},
   "outputs": [],
   "source": [
    "# I assign total_fruit to equal the sum of the two values.\n",
    "total_fruit = apples + oranges"
   ]
  },
  {
   "cell_type": "code",
   "execution_count": 12,
   "id": "517d2ab1",
   "metadata": {},
   "outputs": [
    {
     "data": {
      "text/plain": [
       "24"
      ]
     },
     "execution_count": 12,
     "metadata": {},
     "output_type": "execute_result"
    }
   ],
   "source": [
    "# Testing the variable.\n",
    "total_fruit"
   ]
  },
  {
   "cell_type": "code",
   "execution_count": 9,
   "id": "1a3a46ab",
   "metadata": {},
   "outputs": [
    {
     "name": "stdout",
     "output_type": "stream",
     "text": [
      "The total is: 24\n"
     ]
    }
   ],
   "source": [
    "# Using the print function to display the total.\n",
    "print('The total is:', total_fruit)"
   ]
  },
  {
   "cell_type": "code",
   "execution_count": null,
   "id": "fd92e162",
   "metadata": {},
   "outputs": [],
   "source": []
  }
 ],
 "metadata": {
  "kernelspec": {
   "display_name": "Python 3 (ipykernel)",
   "language": "python",
   "name": "python3"
  },
  "language_info": {
   "codemirror_mode": {
    "name": "ipython",
    "version": 3
   },
   "file_extension": ".py",
   "mimetype": "text/x-python",
   "name": "python",
   "nbconvert_exporter": "python",
   "pygments_lexer": "ipython3",
   "version": "3.11.4"
  }
 },
 "nbformat": 4,
 "nbformat_minor": 5
}
