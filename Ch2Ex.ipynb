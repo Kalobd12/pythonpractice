{
 "cells": [
  {
   "cell_type": "markdown",
   "id": "eb2783b8",
   "metadata": {},
   "source": [
    "# Chapter 2 Ex.\n",
    "\n",
    "problems 5, 5, 13"
   ]
  },
  {
   "cell_type": "markdown",
   "id": "e647ecdf",
   "metadata": {},
   "source": [
    "## Ex 5 Algorithm Workbench\n",
    "\n",
    "The textbook asks us to write a python statement that assigns the sum of 10 and 14 to the variable total.\n",
    "                \n",
    "              "
   ]
  },
  {
   "cell_type": "code",
   "execution_count": 13,
   "id": "bedb36b0",
   "metadata": {},
   "outputs": [
    {
     "name": "stdout",
     "output_type": "stream",
     "text": [
      "how many apples do you have? 10\n",
      "how many oranges do you have? 14\n"
     ]
    }
   ],
   "source": [
    "# (I know this isn't exactly what the textbook asks, just wanted to practice a little more with what we learned.)\n",
    "# I use what I learned from the chapter to use input function to add variables to both 10 and 14. \n",
    "apples = int(input('how many apples do you have? '))\n",
    "oranges = int (input('how many oranges do you have? '))\n",
    "# I input values 10 and 14."
   ]
  },
  {
   "cell_type": "code",
   "execution_count": 4,
   "id": "1fa36cbc",
   "metadata": {},
   "outputs": [],
   "source": [
    "# I assign total_fruit to equal the sum of the two values.\n",
    "total_fruit = apples + oranges"
   ]
  },
  {
   "cell_type": "code",
   "execution_count": 12,
   "id": "515633bb",
   "metadata": {},
   "outputs": [
    {
     "data": {
      "text/plain": [
       "24"
      ]
     },
     "execution_count": 12,
     "metadata": {},
     "output_type": "execute_result"
    }
   ],
   "source": [
    "# Testing if the variable is the sum of both variables.\n",
    "total_fruit"
   ]
  },
  {
   "cell_type": "code",
   "execution_count": 9,
   "id": "c224f904",
   "metadata": {},
   "outputs": [
    {
     "name": "stdout",
     "output_type": "stream",
     "text": [
      "The total is: 24\n"
     ]
    }
   ],
   "source": [
    "# Using the print function to display the total.\n",
    "print('The total is:', total_fruit)"
   ]
  },
  {
   "cell_type": "markdown",
   "id": "9ffe9fe7",
   "metadata": {},
   "source": [
    "## Ex 5 Programming Exercises\n",
    "\n",
    "The Textbook asks us to calculate the distance using the following formula. Distance = Speed * Time"
   ]
  },
  {
   "cell_type": "code",
   "execution_count": 33,
   "id": "9e78c148",
   "metadata": {},
   "outputs": [],
   "source": [
    "# I input the variables to calculate distance.\n",
    "speed = 70\n",
    "time_1 = 6\n",
    "time_2 = 10\n",
    "time_3 = 15\n",
    "# Adding another way to add inputs for variables.\n",
    "speed, time_1, time_2, time_3 = 70, 6, 10, 15"
   ]
  },
  {
   "cell_type": "code",
   "execution_count": 19,
   "id": "a9bfa1af",
   "metadata": {},
   "outputs": [
    {
     "name": "stdout",
     "output_type": "stream",
     "text": [
      "The distance the car traveled in 6 hours: 420\n",
      "The distance the car traveled in 10 hours: 700\n",
      "The distance the car traveled in 15 hours:, 1,050\n"
     ]
    }
   ],
   "source": [
    "# I plug in the variables and multiply speed and time in a print function to display the distance traveled.\n",
    "print('The distance the car traveled in 6 hours:', speed * time_1)\n",
    "print('The distance the car traveled in 10 hours:', speed * time_2)\n",
    "# I used an f-string to add a comma separator for time_3.\n",
    "print(f'The distance the car traveled in 15 hours:, {speed * time_3:,}')"
   ]
  },
  {
   "cell_type": "markdown",
   "id": "049a4f70",
   "metadata": {},
   "source": [
    "## Ex 13 Planting Grapevines\n",
    "\n",
    "The textbook asks us to calculate the number of grapevines that can be planted in each row."
   ]
  },
  {
   "cell_type": "code",
   "execution_count": 23,
   "id": "75ce27b7",
   "metadata": {},
   "outputs": [
    {
     "name": "stdout",
     "output_type": "stream",
     "text": [
      "What is the length of the row, in feet? 100\n",
      "How much space does the end post assembly use, in feet? 10\n",
      "What is the space between the vines, in feet? 3\n"
     ]
    }
   ],
   "source": [
    "# I input variable names and use the input function and float to convert the variable to a float.\n",
    "length_of_row = float(input('What is the length of the row, in feet? '))\n",
    "end_post_assembly = float(input('How much space does the end post assembly use, in feet? '))\n",
    "space_between_vines = float(input('What is the space between the vines, in feet? '))\n",
    "# The vineyard owner then enters the answers below so we can calculate the number of grapevines per row."
   ]
  },
  {
   "cell_type": "code",
   "execution_count": 24,
   "id": "733faff3",
   "metadata": {},
   "outputs": [],
   "source": [
    "# Here is the formula for figuring out the number of grapevines per row.\n",
    "number_of_grapevines = (length_of_row - 2 * end_post_assembly) / space_between_vines"
   ]
  },
  {
   "cell_type": "code",
   "execution_count": 26,
   "id": "1aab4539",
   "metadata": {},
   "outputs": [
    {
     "name": "stdout",
     "output_type": "stream",
     "text": [
      "The number of grapevines that can fit in each row is: 26.666666666666668\n"
     ]
    }
   ],
   "source": [
    "# I use a print function to display the amount of grapevines per row.\n",
    "print('The number of grapevines that can fit in each row is:', number_of_grapevines)"
   ]
  },
  {
   "cell_type": "code",
   "execution_count": 31,
   "id": "fdcb905d",
   "metadata": {},
   "outputs": [
    {
     "name": "stdout",
     "output_type": "stream",
     "text": [
      "The number of grapevines that can fit in each row is:, 26.67\n"
     ]
    }
   ],
   "source": [
    "# To clean up the value for number of grapevines I add an f-string to lower the decimals to 2.\n",
    "print(f'The number of grapevines that can fit in each row is:, {number_of_grapevines:.2f}')"
   ]
  },
  {
   "cell_type": "code",
   "execution_count": null,
   "id": "fcb59397",
   "metadata": {},
   "outputs": [],
   "source": []
  }
 ],
 "metadata": {
  "kernelspec": {
   "display_name": "Python 3 (ipykernel)",
   "language": "python",
   "name": "python3"
  },
  "language_info": {
   "codemirror_mode": {
    "name": "ipython",
    "version": 3
   },
   "file_extension": ".py",
   "mimetype": "text/x-python",
   "name": "python",
   "nbconvert_exporter": "python",
   "pygments_lexer": "ipython3",
   "version": "3.11.4"
  }
 },
 "nbformat": 4,
 "nbformat_minor": 5
}
